{
 "cells": [
  {
   "cell_type": "markdown",
   "id": "2afb5e43",
   "metadata": {},
   "source": [
    "# Sales Report Analyst"
   ]
  },
  {
   "cell_type": "markdown",
   "id": "a360b35b",
   "metadata": {},
   "source": [
    "Kali ini kita akan melakukan analists untuk sales report. Data yang diambil merupakan data dari kaggle. Berikut adalah beberapa keterangan dari kolom-kolom yang ada.\n",
    "1. Date = Kolom Tanggal order\n",
    "2. Year = Tahun order\n",
    "3. Month = bulan order\n",
    "4. Customer Age = Umur Customer\n",
    "5. Customer Gender = Gender Customer\n",
    "6. Country = Customer Country\n",
    "7. State = Customer State\n",
    "9. Product Category = Kategori produk yang dibeli\n",
    "10. Sub Category = Sub  Katergori dari produk yang dibeli\n",
    "11. Quantity = Banyaknya pembelian\n",
    "12. Unit Cost = Biaya produksi per produk\n",
    "13. Unit price = Harga jual per produk\n",
    "14. Cost = Biaya Produksi sejumlah produk yang dibeli\n",
    "15. Revenue = Pendapatan kotor"
   ]
  },
  {
   "cell_type": "code",
   "execution_count": 2,
   "id": "c47bdfef",
   "metadata": {},
   "outputs": [],
   "source": [
    "#Import library yang dibutuhkan\n",
    "import pandas as pd\n",
    "import seaborn as sns\n",
    "import matplotlib.pyplot as plt\n",
    "import numpy as np"
   ]
  },
  {
   "cell_type": "code",
   "execution_count": 3,
   "id": "daf3270e",
   "metadata": {},
   "outputs": [
    {
     "data": {
      "text/html": [
       "<div>\n",
       "<style scoped>\n",
       "    .dataframe tbody tr th:only-of-type {\n",
       "        vertical-align: middle;\n",
       "    }\n",
       "\n",
       "    .dataframe tbody tr th {\n",
       "        vertical-align: top;\n",
       "    }\n",
       "\n",
       "    .dataframe thead th {\n",
       "        text-align: right;\n",
       "    }\n",
       "</style>\n",
       "<table border=\"1\" class=\"dataframe\">\n",
       "  <thead>\n",
       "    <tr style=\"text-align: right;\">\n",
       "      <th></th>\n",
       "      <th>index</th>\n",
       "      <th>Date</th>\n",
       "      <th>Year</th>\n",
       "      <th>Month</th>\n",
       "      <th>Customer Age</th>\n",
       "      <th>Customer Gender</th>\n",
       "      <th>Country</th>\n",
       "      <th>State</th>\n",
       "      <th>Product Category</th>\n",
       "      <th>Sub Category</th>\n",
       "      <th>Quantity</th>\n",
       "      <th>Unit Cost</th>\n",
       "      <th>Unit Price</th>\n",
       "      <th>Cost</th>\n",
       "      <th>Revenue</th>\n",
       "      <th>Column1</th>\n",
       "    </tr>\n",
       "  </thead>\n",
       "  <tbody>\n",
       "    <tr>\n",
       "      <th>0</th>\n",
       "      <td>0</td>\n",
       "      <td>02/19/16</td>\n",
       "      <td>2016.0</td>\n",
       "      <td>February</td>\n",
       "      <td>29.0</td>\n",
       "      <td>F</td>\n",
       "      <td>United States</td>\n",
       "      <td>Washington</td>\n",
       "      <td>Accessories</td>\n",
       "      <td>Tires and Tubes</td>\n",
       "      <td>1.0</td>\n",
       "      <td>80.00</td>\n",
       "      <td>109.000000</td>\n",
       "      <td>80.0</td>\n",
       "      <td>109.0</td>\n",
       "      <td>NaN</td>\n",
       "    </tr>\n",
       "    <tr>\n",
       "      <th>1</th>\n",
       "      <td>1</td>\n",
       "      <td>02/20/16</td>\n",
       "      <td>2016.0</td>\n",
       "      <td>February</td>\n",
       "      <td>29.0</td>\n",
       "      <td>F</td>\n",
       "      <td>United States</td>\n",
       "      <td>Washington</td>\n",
       "      <td>Clothing</td>\n",
       "      <td>Gloves</td>\n",
       "      <td>2.0</td>\n",
       "      <td>24.50</td>\n",
       "      <td>28.500000</td>\n",
       "      <td>49.0</td>\n",
       "      <td>57.0</td>\n",
       "      <td>NaN</td>\n",
       "    </tr>\n",
       "    <tr>\n",
       "      <th>2</th>\n",
       "      <td>2</td>\n",
       "      <td>02/27/16</td>\n",
       "      <td>2016.0</td>\n",
       "      <td>February</td>\n",
       "      <td>29.0</td>\n",
       "      <td>F</td>\n",
       "      <td>United States</td>\n",
       "      <td>Washington</td>\n",
       "      <td>Accessories</td>\n",
       "      <td>Tires and Tubes</td>\n",
       "      <td>3.0</td>\n",
       "      <td>3.67</td>\n",
       "      <td>5.000000</td>\n",
       "      <td>11.0</td>\n",
       "      <td>15.0</td>\n",
       "      <td>NaN</td>\n",
       "    </tr>\n",
       "    <tr>\n",
       "      <th>3</th>\n",
       "      <td>3</td>\n",
       "      <td>03/12/16</td>\n",
       "      <td>2016.0</td>\n",
       "      <td>March</td>\n",
       "      <td>29.0</td>\n",
       "      <td>F</td>\n",
       "      <td>United States</td>\n",
       "      <td>Washington</td>\n",
       "      <td>Accessories</td>\n",
       "      <td>Tires and Tubes</td>\n",
       "      <td>2.0</td>\n",
       "      <td>87.50</td>\n",
       "      <td>116.500000</td>\n",
       "      <td>175.0</td>\n",
       "      <td>233.0</td>\n",
       "      <td>NaN</td>\n",
       "    </tr>\n",
       "    <tr>\n",
       "      <th>4</th>\n",
       "      <td>4</td>\n",
       "      <td>03/12/16</td>\n",
       "      <td>2016.0</td>\n",
       "      <td>March</td>\n",
       "      <td>29.0</td>\n",
       "      <td>F</td>\n",
       "      <td>United States</td>\n",
       "      <td>Washington</td>\n",
       "      <td>Accessories</td>\n",
       "      <td>Tires and Tubes</td>\n",
       "      <td>3.0</td>\n",
       "      <td>35.00</td>\n",
       "      <td>41.666667</td>\n",
       "      <td>105.0</td>\n",
       "      <td>125.0</td>\n",
       "      <td>NaN</td>\n",
       "    </tr>\n",
       "  </tbody>\n",
       "</table>\n",
       "</div>"
      ],
      "text/plain": [
       "   index      Date    Year     Month  Customer Age Customer Gender  \\\n",
       "0      0  02/19/16  2016.0  February          29.0               F   \n",
       "1      1  02/20/16  2016.0  February          29.0               F   \n",
       "2      2  02/27/16  2016.0  February          29.0               F   \n",
       "3      3  03/12/16  2016.0     March          29.0               F   \n",
       "4      4  03/12/16  2016.0     March          29.0               F   \n",
       "\n",
       "         Country       State Product Category     Sub Category  Quantity  \\\n",
       "0  United States  Washington      Accessories  Tires and Tubes       1.0   \n",
       "1  United States  Washington         Clothing           Gloves       2.0   \n",
       "2  United States  Washington      Accessories  Tires and Tubes       3.0   \n",
       "3  United States  Washington      Accessories  Tires and Tubes       2.0   \n",
       "4  United States  Washington      Accessories  Tires and Tubes       3.0   \n",
       "\n",
       "   Unit Cost  Unit Price   Cost  Revenue  Column1  \n",
       "0      80.00  109.000000   80.0    109.0      NaN  \n",
       "1      24.50   28.500000   49.0     57.0      NaN  \n",
       "2       3.67    5.000000   11.0     15.0      NaN  \n",
       "3      87.50  116.500000  175.0    233.0      NaN  \n",
       "4      35.00   41.666667  105.0    125.0      NaN  "
      ]
     },
     "execution_count": 3,
     "metadata": {},
     "output_type": "execute_result"
    }
   ],
   "source": [
    "#Load data sales\n",
    "df = pd.read_csv('SalesForCourse_quizz_table.csv')\n",
    "df.head()"
   ]
  },
  {
   "cell_type": "code",
   "execution_count": 4,
   "id": "c4047270",
   "metadata": {},
   "outputs": [],
   "source": [
    "#Drop kolom yang tidak diperlukan\n",
    "df.drop(['Column1'], axis=1, inplace = True)"
   ]
  },
  {
   "cell_type": "code",
   "execution_count": 5,
   "id": "4387002e",
   "metadata": {
    "scrolled": false
   },
   "outputs": [
    {
     "name": "stdout",
     "output_type": "stream",
     "text": [
      "<class 'pandas.core.frame.DataFrame'>\n",
      "RangeIndex: 34867 entries, 0 to 34866\n",
      "Data columns (total 15 columns):\n",
      " #   Column            Non-Null Count  Dtype  \n",
      "---  ------            --------------  -----  \n",
      " 0   index             34867 non-null  int64  \n",
      " 1   Date              34866 non-null  object \n",
      " 2   Year              34866 non-null  float64\n",
      " 3   Month             34866 non-null  object \n",
      " 4   Customer Age      34866 non-null  float64\n",
      " 5   Customer Gender   34866 non-null  object \n",
      " 6   Country           34866 non-null  object \n",
      " 7   State             34866 non-null  object \n",
      " 8   Product Category  34866 non-null  object \n",
      " 9   Sub Category      34866 non-null  object \n",
      " 10  Quantity          34866 non-null  float64\n",
      " 11  Unit Cost         34866 non-null  float64\n",
      " 12  Unit Price        34866 non-null  float64\n",
      " 13  Cost              34866 non-null  float64\n",
      " 14  Revenue           34867 non-null  float64\n",
      "dtypes: float64(7), int64(1), object(7)\n",
      "memory usage: 4.0+ MB\n"
     ]
    }
   ],
   "source": [
    "#Cek kesesuaian tipe data\n",
    "df.info()"
   ]
  },
  {
   "cell_type": "code",
   "execution_count": 6,
   "id": "3d485181",
   "metadata": {},
   "outputs": [
    {
     "data": {
      "text/plain": [
       "index               0\n",
       "Date                1\n",
       "Year                1\n",
       "Month               1\n",
       "Customer Age        1\n",
       "Customer Gender     1\n",
       "Country             1\n",
       "State               1\n",
       "Product Category    1\n",
       "Sub Category        1\n",
       "Quantity            1\n",
       "Unit Cost           1\n",
       "Unit Price          1\n",
       "Cost                1\n",
       "Revenue             0\n",
       "dtype: int64"
      ]
     },
     "execution_count": 6,
     "metadata": {},
     "output_type": "execute_result"
    }
   ],
   "source": [
    "#Cek missing value\n",
    "df.isnull().sum()"
   ]
  },
  {
   "cell_type": "markdown",
   "id": "bc153208",
   "metadata": {},
   "source": [
    "Dari data diatas diketahui terdapat 1 missing value pada beberapa kolom. Missing value ini tidak akan mempengaruhi hasil analisis dikarenakan jumlahnya yang sedikiti. Maka dari itu baris yang memiliki missing value ini akan kita hapus."
   ]
  },
  {
   "cell_type": "code",
   "execution_count": 7,
   "id": "fda8fe1a",
   "metadata": {},
   "outputs": [
    {
     "data": {
      "text/plain": [
       "index               0\n",
       "Date                0\n",
       "Year                0\n",
       "Month               0\n",
       "Customer Age        0\n",
       "Customer Gender     0\n",
       "Country             0\n",
       "State               0\n",
       "Product Category    0\n",
       "Sub Category        0\n",
       "Quantity            0\n",
       "Unit Cost           0\n",
       "Unit Price          0\n",
       "Cost                0\n",
       "Revenue             0\n",
       "dtype: int64"
      ]
     },
     "execution_count": 7,
     "metadata": {},
     "output_type": "execute_result"
    }
   ],
   "source": [
    "#Menghapus baris yang memiliki missing value\n",
    "df = df.dropna()\n",
    "# Cek apakah masih ada missing value\n",
    "df.isnull().sum()"
   ]
  },
  {
   "cell_type": "code",
   "execution_count": 8,
   "id": "d67298f2",
   "metadata": {},
   "outputs": [
    {
     "data": {
      "text/plain": [
       "array([2016., 2015.])"
      ]
     },
     "execution_count": 8,
     "metadata": {},
     "output_type": "execute_result"
    }
   ],
   "source": [
    "#Cek unique value kolom year\n",
    "df['Year'].unique()"
   ]
  },
  {
   "cell_type": "code",
   "execution_count": 9,
   "id": "fcb06f08",
   "metadata": {},
   "outputs": [
    {
     "data": {
      "text/plain": [
       "United States     18076\n",
       "United Kingdom     6421\n",
       "Germany            5201\n",
       "France             5168\n",
       "Name: Country, dtype: int64"
      ]
     },
     "execution_count": 9,
     "metadata": {},
     "output_type": "execute_result"
    }
   ],
   "source": [
    "#Cek Unique value kolom countery\n",
    "df['Country'].value_counts()"
   ]
  },
  {
   "cell_type": "markdown",
   "id": "9cec9daa",
   "metadata": {},
   "source": [
    "Transaksi pada data sales report ini berlangsung dari tahun 2015 sampai tahun 2016 dengan customer dari 4 negara yaitu United States, United Kingdom, Germany dan France. Sebagian Besar customer berasal dari United States."
   ]
  },
  {
   "cell_type": "code",
   "execution_count": 10,
   "id": "7473199f",
   "metadata": {},
   "outputs": [
    {
     "data": {
      "text/plain": [
       "array(['F', 'M'], dtype=object)"
      ]
     },
     "execution_count": 10,
     "metadata": {},
     "output_type": "execute_result"
    }
   ],
   "source": [
    "#Cek unique Value kolom gender\n",
    "df['Customer Gender'].unique()"
   ]
  },
  {
   "cell_type": "code",
   "execution_count": 11,
   "id": "23c2be69",
   "metadata": {},
   "outputs": [
    {
     "data": {
      "text/plain": [
       "array(['Washington', 'California', 'Oregon', 'Essonne', 'Yveline',\n",
       "       'England', 'Hessen', 'Hamburg', 'Seine Saint Denis', 'Saarland',\n",
       "       'Nordrhein-Westfalen', 'Bayern', 'Seine (Paris)', 'Pas de Calais',\n",
       "       'Moselle', 'Hauts de Seine', 'Nord', 'Seine et Marne', 'Loiret',\n",
       "       'Charente-Maritime', 'Loir et Cher', 'Brandenburg', 'Alabama',\n",
       "       \"Val d'Oise\", 'Val de Marne', 'Minnesota', 'Wyoming', 'Ohio',\n",
       "       'Garonne (Haute)', 'Kentucky', 'Texas', 'Missouri', 'Somme',\n",
       "       'New York', 'Florida', 'Illinois', 'South Carolina',\n",
       "       'North Carolina', 'Georgia', 'Virginia', 'Mississippi', 'Montana',\n",
       "       'Arizona', 'Massachusetts', 'Utah'], dtype=object)"
      ]
     },
     "execution_count": 11,
     "metadata": {},
     "output_type": "execute_result"
    }
   ],
   "source": [
    "#Cek unique value kolom state\n",
    "df['State'].unique()"
   ]
  },
  {
   "cell_type": "code",
   "execution_count": 12,
   "id": "f403af3b",
   "metadata": {},
   "outputs": [
    {
     "data": {
      "text/plain": [
       "array(['Accessories', 'Clothing', 'Bikes'], dtype=object)"
      ]
     },
     "execution_count": 12,
     "metadata": {},
     "output_type": "execute_result"
    }
   ],
   "source": [
    "#Cek uniwue value kolom product category\n",
    "df['Product Category'].unique()"
   ]
  },
  {
   "cell_type": "code",
   "execution_count": 13,
   "id": "1493e5ce",
   "metadata": {},
   "outputs": [
    {
     "data": {
      "text/plain": [
       "array([29., 18., 19., 20., 22., 24., 40., 21., 23., 25., 30., 55., 53.,\n",
       "       52., 51., 50., 49., 48., 47., 46., 45., 41., 42., 65., 64., 32.,\n",
       "       33., 63., 34., 35., 43., 62., 37., 44., 60., 59., 58., 36., 61.,\n",
       "       57., 54., 38., 39., 27., 28., 17., 26., 67., 66., 71., 31., 56.,\n",
       "       87., 70., 69., 73., 68., 75., 86., 85., 77., 81., 84., 78., 72.,\n",
       "       80., 74., 76., 79., 82.])"
      ]
     },
     "execution_count": 13,
     "metadata": {},
     "output_type": "execute_result"
    }
   ],
   "source": [
    "#Cek unique value kolom customer age \n",
    "df['Customer Age'].unique()"
   ]
  },
  {
   "cell_type": "code",
   "execution_count": 14,
   "id": "2ad79fae",
   "metadata": {},
   "outputs": [
    {
     "data": {
      "text/plain": [
       "array(['Tires and Tubes', 'Gloves', 'Helmets', 'Bike Stands',\n",
       "       'Mountain Bikes', 'Hydration Packs', 'Jerseys', 'Fenders',\n",
       "       'Cleaners', 'Socks', 'Caps', 'Touring Bikes', 'Bottles and Cages',\n",
       "       'Vests', 'Road Bikes', 'Bike Racks', 'Shorts'], dtype=object)"
      ]
     },
     "execution_count": 14,
     "metadata": {},
     "output_type": "execute_result"
    }
   ],
   "source": [
    "#Cek unique value kolom sub category\n",
    "df['Sub Category'].unique()"
   ]
  },
  {
   "cell_type": "markdown",
   "id": "bfc7c087",
   "metadata": {},
   "source": [
    "0. new column named profit\n",
    "1. top product sub category that have most unit cost \n",
    "2. top product sub category by profit\n",
    "3. top product sub category by quantity\n",
    "4. male female pie chart profit and quantity\n",
    "5. profit and quantity by country\n",
    "6. costumer segmentation by age"
   ]
  },
  {
   "cell_type": "markdown",
   "id": "bc9b49a3",
   "metadata": {},
   "source": [
    "### Membuat kolom baru bernama unit profit dan profit"
   ]
  },
  {
   "cell_type": "markdown",
   "id": "ec90702b",
   "metadata": {},
   "source": [
    "Untuk mempermudah proses analisis perlu ditambahkan dua kolom baru yaitu unit profit dan profit. \n",
    "1. Unit profit merupakan keuntungan bersih yang didapatkan tiap pembelian 1 produk. Kolom ini dibuat dengan cara mengurangi nilai kolom unit price dengan kolom unit cost.\n",
    "2. Profit merupakan kolom yang berisi keuntungan bersih yang didapatkan dari sejumlah barang yang dibeli. Kolom ini dibuat dengan cara mengurangi kolom revenue dengan kolom cost."
   ]
  },
  {
   "cell_type": "code",
   "execution_count": 15,
   "id": "d312ff19",
   "metadata": {},
   "outputs": [],
   "source": [
    "#Membuat kolom unit profit\n",
    "df['Unit Profit'] = df['Unit Price'] - df['Unit Cost']\n",
    "#Membuat kolom profit\n",
    "df['Profit'] = df['Revenue'] - df['Cost']"
   ]
  },
  {
   "cell_type": "code",
   "execution_count": 16,
   "id": "95bf596a",
   "metadata": {},
   "outputs": [
    {
     "data": {
      "text/html": [
       "<div>\n",
       "<style scoped>\n",
       "    .dataframe tbody tr th:only-of-type {\n",
       "        vertical-align: middle;\n",
       "    }\n",
       "\n",
       "    .dataframe tbody tr th {\n",
       "        vertical-align: top;\n",
       "    }\n",
       "\n",
       "    .dataframe thead th {\n",
       "        text-align: right;\n",
       "    }\n",
       "</style>\n",
       "<table border=\"1\" class=\"dataframe\">\n",
       "  <thead>\n",
       "    <tr style=\"text-align: right;\">\n",
       "      <th></th>\n",
       "      <th>index</th>\n",
       "      <th>Date</th>\n",
       "      <th>Year</th>\n",
       "      <th>Month</th>\n",
       "      <th>Customer Age</th>\n",
       "      <th>Customer Gender</th>\n",
       "      <th>Country</th>\n",
       "      <th>State</th>\n",
       "      <th>Product Category</th>\n",
       "      <th>Sub Category</th>\n",
       "      <th>Quantity</th>\n",
       "      <th>Unit Cost</th>\n",
       "      <th>Unit Price</th>\n",
       "      <th>Cost</th>\n",
       "      <th>Revenue</th>\n",
       "      <th>Unit Profit</th>\n",
       "      <th>Profit</th>\n",
       "    </tr>\n",
       "  </thead>\n",
       "  <tbody>\n",
       "    <tr>\n",
       "      <th>0</th>\n",
       "      <td>0</td>\n",
       "      <td>02/19/16</td>\n",
       "      <td>2016.0</td>\n",
       "      <td>February</td>\n",
       "      <td>29.0</td>\n",
       "      <td>F</td>\n",
       "      <td>United States</td>\n",
       "      <td>Washington</td>\n",
       "      <td>Accessories</td>\n",
       "      <td>Tires and Tubes</td>\n",
       "      <td>1.0</td>\n",
       "      <td>80.00</td>\n",
       "      <td>109.000000</td>\n",
       "      <td>80.0</td>\n",
       "      <td>109.0</td>\n",
       "      <td>29.000000</td>\n",
       "      <td>29.0</td>\n",
       "    </tr>\n",
       "    <tr>\n",
       "      <th>1</th>\n",
       "      <td>1</td>\n",
       "      <td>02/20/16</td>\n",
       "      <td>2016.0</td>\n",
       "      <td>February</td>\n",
       "      <td>29.0</td>\n",
       "      <td>F</td>\n",
       "      <td>United States</td>\n",
       "      <td>Washington</td>\n",
       "      <td>Clothing</td>\n",
       "      <td>Gloves</td>\n",
       "      <td>2.0</td>\n",
       "      <td>24.50</td>\n",
       "      <td>28.500000</td>\n",
       "      <td>49.0</td>\n",
       "      <td>57.0</td>\n",
       "      <td>4.000000</td>\n",
       "      <td>8.0</td>\n",
       "    </tr>\n",
       "    <tr>\n",
       "      <th>2</th>\n",
       "      <td>2</td>\n",
       "      <td>02/27/16</td>\n",
       "      <td>2016.0</td>\n",
       "      <td>February</td>\n",
       "      <td>29.0</td>\n",
       "      <td>F</td>\n",
       "      <td>United States</td>\n",
       "      <td>Washington</td>\n",
       "      <td>Accessories</td>\n",
       "      <td>Tires and Tubes</td>\n",
       "      <td>3.0</td>\n",
       "      <td>3.67</td>\n",
       "      <td>5.000000</td>\n",
       "      <td>11.0</td>\n",
       "      <td>15.0</td>\n",
       "      <td>1.330000</td>\n",
       "      <td>4.0</td>\n",
       "    </tr>\n",
       "    <tr>\n",
       "      <th>3</th>\n",
       "      <td>3</td>\n",
       "      <td>03/12/16</td>\n",
       "      <td>2016.0</td>\n",
       "      <td>March</td>\n",
       "      <td>29.0</td>\n",
       "      <td>F</td>\n",
       "      <td>United States</td>\n",
       "      <td>Washington</td>\n",
       "      <td>Accessories</td>\n",
       "      <td>Tires and Tubes</td>\n",
       "      <td>2.0</td>\n",
       "      <td>87.50</td>\n",
       "      <td>116.500000</td>\n",
       "      <td>175.0</td>\n",
       "      <td>233.0</td>\n",
       "      <td>29.000000</td>\n",
       "      <td>58.0</td>\n",
       "    </tr>\n",
       "    <tr>\n",
       "      <th>4</th>\n",
       "      <td>4</td>\n",
       "      <td>03/12/16</td>\n",
       "      <td>2016.0</td>\n",
       "      <td>March</td>\n",
       "      <td>29.0</td>\n",
       "      <td>F</td>\n",
       "      <td>United States</td>\n",
       "      <td>Washington</td>\n",
       "      <td>Accessories</td>\n",
       "      <td>Tires and Tubes</td>\n",
       "      <td>3.0</td>\n",
       "      <td>35.00</td>\n",
       "      <td>41.666667</td>\n",
       "      <td>105.0</td>\n",
       "      <td>125.0</td>\n",
       "      <td>6.666667</td>\n",
       "      <td>20.0</td>\n",
       "    </tr>\n",
       "  </tbody>\n",
       "</table>\n",
       "</div>"
      ],
      "text/plain": [
       "   index      Date    Year     Month  Customer Age Customer Gender  \\\n",
       "0      0  02/19/16  2016.0  February          29.0               F   \n",
       "1      1  02/20/16  2016.0  February          29.0               F   \n",
       "2      2  02/27/16  2016.0  February          29.0               F   \n",
       "3      3  03/12/16  2016.0     March          29.0               F   \n",
       "4      4  03/12/16  2016.0     March          29.0               F   \n",
       "\n",
       "         Country       State Product Category     Sub Category  Quantity  \\\n",
       "0  United States  Washington      Accessories  Tires and Tubes       1.0   \n",
       "1  United States  Washington         Clothing           Gloves       2.0   \n",
       "2  United States  Washington      Accessories  Tires and Tubes       3.0   \n",
       "3  United States  Washington      Accessories  Tires and Tubes       2.0   \n",
       "4  United States  Washington      Accessories  Tires and Tubes       3.0   \n",
       "\n",
       "   Unit Cost  Unit Price   Cost  Revenue  Unit Profit  Profit  \n",
       "0      80.00  109.000000   80.0    109.0    29.000000    29.0  \n",
       "1      24.50   28.500000   49.0     57.0     4.000000     8.0  \n",
       "2       3.67    5.000000   11.0     15.0     1.330000     4.0  \n",
       "3      87.50  116.500000  175.0    233.0    29.000000    58.0  \n",
       "4      35.00   41.666667  105.0    125.0     6.666667    20.0  "
      ]
     },
     "execution_count": 16,
     "metadata": {},
     "output_type": "execute_result"
    }
   ],
   "source": [
    "df.head()"
   ]
  },
  {
   "cell_type": "markdown",
   "id": "79357487",
   "metadata": {},
   "source": [
    "## Top Product"
   ]
  },
  {
   "cell_type": "code",
   "execution_count": 48,
   "id": "35379d0a",
   "metadata": {},
   "outputs": [
    {
     "data": {
      "text/html": [
       "<div>\n",
       "<style scoped>\n",
       "    .dataframe tbody tr th:only-of-type {\n",
       "        vertical-align: middle;\n",
       "    }\n",
       "\n",
       "    .dataframe tbody tr th {\n",
       "        vertical-align: top;\n",
       "    }\n",
       "\n",
       "    .dataframe thead th {\n",
       "        text-align: right;\n",
       "    }\n",
       "</style>\n",
       "<table border=\"1\" class=\"dataframe\">\n",
       "  <thead>\n",
       "    <tr style=\"text-align: right;\">\n",
       "      <th></th>\n",
       "      <th>Sub Category</th>\n",
       "      <th>Profit</th>\n",
       "      <th>Quantity</th>\n",
       "      <th>Unit Cost</th>\n",
       "      <th>Unit Profit</th>\n",
       "    </tr>\n",
       "  </thead>\n",
       "  <tbody>\n",
       "    <tr>\n",
       "      <th>0</th>\n",
       "      <td>Bike Racks</td>\n",
       "      <td>34894.0</td>\n",
       "      <td>204.0</td>\n",
       "      <td>666.796117</td>\n",
       "      <td>219.043689</td>\n",
       "    </tr>\n",
       "    <tr>\n",
       "      <th>1</th>\n",
       "      <td>Bike Stands</td>\n",
       "      <td>25301.0</td>\n",
       "      <td>304.0</td>\n",
       "      <td>511.358621</td>\n",
       "      <td>100.885057</td>\n",
       "    </tr>\n",
       "    <tr>\n",
       "      <th>2</th>\n",
       "      <td>Bottles and Cages</td>\n",
       "      <td>129567.0</td>\n",
       "      <td>10558.0</td>\n",
       "      <td>67.016591</td>\n",
       "      <td>14.927727</td>\n",
       "    </tr>\n",
       "    <tr>\n",
       "      <th>3</th>\n",
       "      <td>Caps</td>\n",
       "      <td>43610.0</td>\n",
       "      <td>3020.0</td>\n",
       "      <td>86.656889</td>\n",
       "      <td>17.494507</td>\n",
       "    </tr>\n",
       "    <tr>\n",
       "      <th>4</th>\n",
       "      <td>Cleaners</td>\n",
       "      <td>14664.0</td>\n",
       "      <td>1102.0</td>\n",
       "      <td>76.189046</td>\n",
       "      <td>16.263248</td>\n",
       "    </tr>\n",
       "    <tr>\n",
       "      <th>5</th>\n",
       "      <td>Fenders</td>\n",
       "      <td>71403.0</td>\n",
       "      <td>1494.0</td>\n",
       "      <td>216.060079</td>\n",
       "      <td>60.856807</td>\n",
       "    </tr>\n",
       "    <tr>\n",
       "      <th>6</th>\n",
       "      <td>Gloves</td>\n",
       "      <td>45817.0</td>\n",
       "      <td>913.0</td>\n",
       "      <td>239.738917</td>\n",
       "      <td>59.994069</td>\n",
       "    </tr>\n",
       "    <tr>\n",
       "      <th>7</th>\n",
       "      <td>Helmets</td>\n",
       "      <td>518475.0</td>\n",
       "      <td>8387.0</td>\n",
       "      <td>320.998211</td>\n",
       "      <td>74.602443</td>\n",
       "    </tr>\n",
       "    <tr>\n",
       "      <th>8</th>\n",
       "      <td>Hydration Packs</td>\n",
       "      <td>72341.0</td>\n",
       "      <td>786.0</td>\n",
       "      <td>513.402828</td>\n",
       "      <td>116.787407</td>\n",
       "    </tr>\n",
       "    <tr>\n",
       "      <th>9</th>\n",
       "      <td>Jerseys</td>\n",
       "      <td>300876.0</td>\n",
       "      <td>4033.0</td>\n",
       "      <td>462.689645</td>\n",
       "      <td>90.390688</td>\n",
       "    </tr>\n",
       "    <tr>\n",
       "      <th>10</th>\n",
       "      <td>Mountain Bikes</td>\n",
       "      <td>144627.0</td>\n",
       "      <td>5499.0</td>\n",
       "      <td>1116.133062</td>\n",
       "      <td>33.324008</td>\n",
       "    </tr>\n",
       "    <tr>\n",
       "      <th>11</th>\n",
       "      <td>Road Bikes</td>\n",
       "      <td>98166.0</td>\n",
       "      <td>6119.0</td>\n",
       "      <td>762.726820</td>\n",
       "      <td>18.444755</td>\n",
       "    </tr>\n",
       "    <tr>\n",
       "      <th>12</th>\n",
       "      <td>Shorts</td>\n",
       "      <td>87044.0</td>\n",
       "      <td>1129.0</td>\n",
       "      <td>658.486449</td>\n",
       "      <td>94.572150</td>\n",
       "    </tr>\n",
       "    <tr>\n",
       "      <th>13</th>\n",
       "      <td>Socks</td>\n",
       "      <td>9541.0</td>\n",
       "      <td>750.0</td>\n",
       "      <td>82.454670</td>\n",
       "      <td>15.160256</td>\n",
       "    </tr>\n",
       "    <tr>\n",
       "      <th>14</th>\n",
       "      <td>Tires and Tubes</td>\n",
       "      <td>512124.0</td>\n",
       "      <td>22213.0</td>\n",
       "      <td>128.698957</td>\n",
       "      <td>27.907729</td>\n",
       "    </tr>\n",
       "    <tr>\n",
       "      <th>15</th>\n",
       "      <td>Touring Bikes</td>\n",
       "      <td>94808.0</td>\n",
       "      <td>2673.0</td>\n",
       "      <td>1049.057496</td>\n",
       "      <td>41.702124</td>\n",
       "    </tr>\n",
       "    <tr>\n",
       "      <th>16</th>\n",
       "      <td>Vests</td>\n",
       "      <td>58344.0</td>\n",
       "      <td>636.0</td>\n",
       "      <td>600.345128</td>\n",
       "      <td>111.970577</td>\n",
       "    </tr>\n",
       "  </tbody>\n",
       "</table>\n",
       "</div>"
      ],
      "text/plain": [
       "         Sub Category    Profit  Quantity    Unit Cost  Unit Profit\n",
       "0          Bike Racks   34894.0     204.0   666.796117   219.043689\n",
       "1         Bike Stands   25301.0     304.0   511.358621   100.885057\n",
       "2   Bottles and Cages  129567.0   10558.0    67.016591    14.927727\n",
       "3                Caps   43610.0    3020.0    86.656889    17.494507\n",
       "4            Cleaners   14664.0    1102.0    76.189046    16.263248\n",
       "5             Fenders   71403.0    1494.0   216.060079    60.856807\n",
       "6              Gloves   45817.0     913.0   239.738917    59.994069\n",
       "7             Helmets  518475.0    8387.0   320.998211    74.602443\n",
       "8     Hydration Packs   72341.0     786.0   513.402828   116.787407\n",
       "9             Jerseys  300876.0    4033.0   462.689645    90.390688\n",
       "10     Mountain Bikes  144627.0    5499.0  1116.133062    33.324008\n",
       "11         Road Bikes   98166.0    6119.0   762.726820    18.444755\n",
       "12             Shorts   87044.0    1129.0   658.486449    94.572150\n",
       "13              Socks    9541.0     750.0    82.454670    15.160256\n",
       "14    Tires and Tubes  512124.0   22213.0   128.698957    27.907729\n",
       "15      Touring Bikes   94808.0    2673.0  1049.057496    41.702124\n",
       "16              Vests   58344.0     636.0   600.345128   111.970577"
      ]
     },
     "execution_count": 48,
     "metadata": {},
     "output_type": "execute_result"
    }
   ],
   "source": [
    "#Membuat pivot table dengan index kolom sub category untuk mendapatkan top product dari segi profit, quantity, unit cost dan unit profit\n",
    "top_Product = pd.pivot_table(df, index=['Sub Category'],\n",
    "              aggfunc={\n",
    "                  'Unit Cost':'mean',\n",
    "                  'Unit Profit':'mean',\n",
    "                  'Profit':'sum',\n",
    "                  'Quantity':'sum'\n",
    "              }).reset_index()\n",
    "top_Product"
   ]
  },
  {
   "cell_type": "code",
   "execution_count": 49,
   "id": "26b03cc6",
   "metadata": {},
   "outputs": [
    {
     "data": {
      "image/png": "[encoded data removed]",
      "text/plain": [
       "<Figure size 432x288 with 1 Axes>"
      ]
     },
     "metadata": {
      "needs_background": "light"
     },
     "output_type": "display_data"
    }
   ],
   "source": [
    "#Mencari top product berdasarkan unit profit\n",
    "top_Unit_Profit = top_Product.sort_values(by='Unit Profit',ascending=False).head(5)\n",
    "#Visualisasi top product berdasarkan unit profit\n",
    "ax = sns.barplot(data=top_Unit_Profit, x='Sub Category', y='Unit Profit', palette='magma')\n",
    "ax.set_xticklabels(ax.get_xticklabels(), rotation=45, horizontalalignment='right')\n",
    "for p in ax.patches:\n",
    "    ax.annotate(f'{p.get_height():.2f}', (p.get_x() + p.get_width() / 2., p.get_height()), ha='center', va='center', fontsize=10, color='black', xytext=(0, 5), textcoords='offset points')\n",
    "plt.show()"
   ]
  },
  {
   "cell_type": "markdown",
   "id": "dc359462",
   "metadata": {},
   "source": [
    "5 product yang memiliki keuntungan penjualan tiap produk terbesar adalah bike racks, Hydration Packs, vests,Bike Stands,  shorts. Bike Racks menjadi produk yang memberikan keuntungan penjualan per produk terbesar dan besar keuntungannya cukup signifikan dibanding dengna 4 produk lainnya."
   ]
  },
  {
   "cell_type": "code",
   "execution_count": 50,
   "id": "ad00c74b",
   "metadata": {},
   "outputs": [
    {
     "data": {
      "image/png": "[encoded data removed]",
      "text/plain": [
       "<Figure size 432x288 with 1 Axes>"
      ]
     },
     "metadata": {
      "needs_background": "light"
     },
     "output_type": "display_data"
    }
   ],
   "source": [
    "#Mencari top product berdasarkan unit cost\n",
    "top_Unit_Cost = top_Product.sort_values(by='Unit Cost',ascending=False).head(5)\n",
    "#Visualisasi top product berdasarkan unit cost\n",
    "ax = sns.barplot(data=top_Unit_Cost, x='Sub Category', y='Unit Cost', palette='magma')\n",
    "ax.set_xticklabels(ax.get_xticklabels(), rotation=45, horizontalalignment='right')\n",
    "for p in ax.patches:\n",
    "    ax.annotate(f'{p.get_height():.2f}', (p.get_x() + p.get_width() / 2., p.get_height()), ha='center', va='center', fontsize=10, color='black', xytext=(0, 5), textcoords='offset points')\n",
    "plt.show()"
   ]
  },
  {
   "cell_type": "markdown",
   "id": "ca4a7db5",
   "metadata": {},
   "source": [
    "5 product yang memiliki biaya produksi terbesar adalah mountain bikes,touring bikes, road bikes, bike racks dan shorts. Dari segi biaya produksi mountain bikes menjadi produk yang memiliki biaya produksi terbesar dan besar biaya produksinya cukup signifikan dibanding dengna 4 produk lainnya."
   ]
  },
  {
   "cell_type": "code",
   "execution_count": 51,
   "id": "51954f6c",
   "metadata": {},
   "outputs": [
    {
     "data": {
      "image/png": "[encoded data removed]",
      "text/plain": [
       "<Figure size 432x288 with 1 Axes>"
      ]
     },
     "metadata": {
      "needs_background": "light"
     },
     "output_type": "display_data"
    }
   ],
   "source": [
    "#Mencari top product berdasarkan profit\n",
    "top_Profit = top_Product.sort_values(by='Profit',ascending=False).head(5)\n",
    "#Visualisasi top product berdasarkan profit\n",
    "ax = sns.barplot(data=top_Profit, x='Sub Category', y='Profit', palette='magma')\n",
    "ax.set_xticklabels(ax.get_xticklabels(), rotation=45, horizontalalignment='right')\n",
    "for p in ax.patches:\n",
    "    ax.annotate(f'{p.get_height():.2f}', (p.get_x() + p.get_width() / 2., p.get_height()), ha='center', va='center', fontsize=10, color='black', xytext=(0, 5), textcoords='offset points')\n",
    "plt.show()"
   ]
  },
  {
   "cell_type": "markdown",
   "id": "a9dafd8d",
   "metadata": {},
   "source": [
    "5 product yang memberikan jumlah keuntungan penjualan terbesar adalah Helmets, Tires and Tubes, Jerseys, Mountain Bikes, Bottles and Cages. Helmet dan tires and tubes menjadi 2 produk yang memberikan jumlah keuntungan terbesar dengan selisih yang sangat tipis antara keduanya. Sementara jika dibandingkan dengan produk lainnya, 2 produk ini cukup signifikan dari segi jumlah keuntungan yang diberikan. "
   ]
  },
  {
   "cell_type": "code",
   "execution_count": 52,
   "id": "c1aff046",
   "metadata": {},
   "outputs": [
    {
     "data": {
      "image/png": "[encoded data removed]",
      "text/plain": [
       "<Figure size 432x288 with 1 Axes>"
      ]
     },
     "metadata": {
      "needs_background": "light"
     },
     "output_type": "display_data"
    }
   ],
   "source": [
    "#Mencari top product berdasarkan Quantity\n",
    "top_Quantity = top_Product.sort_values(by='Quantity',ascending=False).head(5)\n",
    "#Visualisasi top product berdasarkan Quantity\n",
    "ax = sns.barplot(data=top_Quantity, x='Sub Category', y='Quantity', palette='magma')\n",
    "ax.set_xticklabels(ax.get_xticklabels(), rotation=45, horizontalalignment='right')\n",
    "for p in ax.patches:\n",
    "    ax.annotate(f'{p.get_height():.2f}', (p.get_x() + p.get_width() / 2., p.get_height()), ha='center', va='center', fontsize=10, color='black', xytext=(0, 5), textcoords='offset points')\n",
    "plt.show()"
   ]
  },
  {
   "cell_type": "markdown",
   "id": "56555ecc",
   "metadata": {},
   "source": [
    "5 product yang paling sering dibeli oleh customer adalah Tires and Tubes, Bottles and Cages, helmet, Road Bikes dan Mountain Bikes. Jumlah pembelian produk tires and tubes sangat besar dibandingkan 4 produk lainnya. Hal inilah yang membuat tires and tubes memnjadi top 2 profit terbesar. Sementara itu, helmet yang menjadi pemberi profit terbesar, ternyata hanya ada diperingkat ke 3 terbesar dari segi jumlah barang yang dijual. Hal ini dapat terjadi karena keuntungan penjualan per produk yang diberikan oleh helmet cukup besar dibanding produk lainnya."
   ]
  },
  {
   "cell_type": "markdown",
   "id": "1fedda25",
   "metadata": {},
   "source": [
    "# Top Gender "
   ]
  },
  {
   "cell_type": "code",
   "execution_count": 53,
   "id": "8e41da4a",
   "metadata": {},
   "outputs": [
    {
     "data": {
      "text/html": [
       "<div>\n",
       "<style scoped>\n",
       "    .dataframe tbody tr th:only-of-type {\n",
       "        vertical-align: middle;\n",
       "    }\n",
       "\n",
       "    .dataframe tbody tr th {\n",
       "        vertical-align: top;\n",
       "    }\n",
       "\n",
       "    .dataframe thead th {\n",
       "        text-align: right;\n",
       "    }\n",
       "</style>\n",
       "<table border=\"1\" class=\"dataframe\">\n",
       "  <thead>\n",
       "    <tr style=\"text-align: right;\">\n",
       "      <th></th>\n",
       "      <th>Customer Gender</th>\n",
       "      <th>Profit</th>\n",
       "      <th>Quantity</th>\n",
       "    </tr>\n",
       "  </thead>\n",
       "  <tbody>\n",
       "    <tr>\n",
       "      <th>0</th>\n",
       "      <td>F</td>\n",
       "      <td>1098350.0</td>\n",
       "      <td>34336.0</td>\n",
       "    </tr>\n",
       "    <tr>\n",
       "      <th>1</th>\n",
       "      <td>M</td>\n",
       "      <td>1163252.0</td>\n",
       "      <td>35484.0</td>\n",
       "    </tr>\n",
       "  </tbody>\n",
       "</table>\n",
       "</div>"
      ],
      "text/plain": [
       "  Customer Gender     Profit  Quantity\n",
       "0               F  1098350.0   34336.0\n",
       "1               M  1163252.0   35484.0"
      ]
     },
     "execution_count": 53,
     "metadata": {},
     "output_type": "execute_result"
    }
   ],
   "source": [
    "#Membuat pivot table dengan index customer gander\n",
    "top_gender = pd.pivot_table(df, index=['Customer Gender'],\n",
    "              aggfunc={\n",
    "                  'Profit':'sum',\n",
    "                  'Quantity':'sum'\n",
    "              }).reset_index()\n",
    "top_gender"
   ]
  },
  {
   "cell_type": "code",
   "execution_count": 54,
   "id": "480ebd50",
   "metadata": {},
   "outputs": [
    {
     "data": {
      "image/png": "[encoded data removed]",
      "text/plain": [
       "<Figure size 432x288 with 1 Axes>"
      ]
     },
     "metadata": {},
     "output_type": "display_data"
    }
   ],
   "source": [
    "#Visualisasi top gender berdasarkan profit yang dihasilkan\n",
    "plt.pie(data = top_gender,x='Profit', labels='Customer Gender', autopct='%1.1f%%')\n",
    "plt.show()"
   ]
  },
  {
   "cell_type": "code",
   "execution_count": 55,
   "id": "631f7e55",
   "metadata": {},
   "outputs": [
    {
     "data": {
      "image/png": "[encoded data removed]",
      "text/plain": [
       "<Figure size 432x288 with 1 Axes>"
      ]
     },
     "metadata": {},
     "output_type": "display_data"
    }
   ],
   "source": [
    "#Visualisasi top gender berdasarkan banyaknya barnag yang dibeli\n",
    "plt.pie(data = top_gender,x='Quantity', labels='Customer Gender', autopct='%1.1f%%')\n",
    "plt.show()"
   ]
  },
  {
   "cell_type": "markdown",
   "id": "94d22928",
   "metadata": {},
   "source": [
    "Baik dari profit yang dihasilkan maupun jumlah barnag yang dibeli, antara male dan female memiliki selisish yang sangat kecil yaitu sekitar 2%. Hal ini membuktikan bahwa baik male maupun female sama-sama memiliki daya beli yang tinggi. "
   ]
  },
  {
   "cell_type": "markdown",
   "id": "948ce6d8",
   "metadata": {},
   "source": [
    "# Top Country"
   ]
  },
  {
   "cell_type": "code",
   "execution_count": 56,
   "id": "6f367ac3",
   "metadata": {},
   "outputs": [
    {
     "data": {
      "text/html": [
       "<div>\n",
       "<style scoped>\n",
       "    .dataframe tbody tr th:only-of-type {\n",
       "        vertical-align: middle;\n",
       "    }\n",
       "\n",
       "    .dataframe tbody tr th {\n",
       "        vertical-align: top;\n",
       "    }\n",
       "\n",
       "    .dataframe thead th {\n",
       "        text-align: right;\n",
       "    }\n",
       "</style>\n",
       "<table border=\"1\" class=\"dataframe\">\n",
       "  <thead>\n",
       "    <tr style=\"text-align: right;\">\n",
       "      <th></th>\n",
       "      <th>Country</th>\n",
       "      <th>Profit</th>\n",
       "      <th>Quantity</th>\n",
       "      <th>Unit Price</th>\n",
       "    </tr>\n",
       "  </thead>\n",
       "  <tbody>\n",
       "    <tr>\n",
       "      <th>0</th>\n",
       "      <td>France</td>\n",
       "      <td>272657.0</td>\n",
       "      <td>10373.0</td>\n",
       "      <td>404.809888</td>\n",
       "    </tr>\n",
       "    <tr>\n",
       "      <th>1</th>\n",
       "      <td>Germany</td>\n",
       "      <td>958825.0</td>\n",
       "      <td>10386.0</td>\n",
       "      <td>500.015029</td>\n",
       "    </tr>\n",
       "    <tr>\n",
       "      <th>2</th>\n",
       "      <td>United Kingdom</td>\n",
       "      <td>328955.0</td>\n",
       "      <td>12822.0</td>\n",
       "      <td>402.691663</td>\n",
       "    </tr>\n",
       "    <tr>\n",
       "      <th>3</th>\n",
       "      <td>United States</td>\n",
       "      <td>701165.0</td>\n",
       "      <td>36239.0</td>\n",
       "      <td>348.122428</td>\n",
       "    </tr>\n",
       "  </tbody>\n",
       "</table>\n",
       "</div>"
      ],
      "text/plain": [
       "          Country    Profit  Quantity  Unit Price\n",
       "0          France  272657.0   10373.0  404.809888\n",
       "1         Germany  958825.0   10386.0  500.015029\n",
       "2  United Kingdom  328955.0   12822.0  402.691663\n",
       "3   United States  701165.0   36239.0  348.122428"
      ]
     },
     "execution_count": 56,
     "metadata": {},
     "output_type": "execute_result"
    }
   ],
   "source": [
    "#Membuat pivot table dengan index country\n",
    "top_country = pd.pivot_table(df, index=['Country'],\n",
    "              aggfunc={\n",
    "                  'Profit':'sum',\n",
    "                  'Quantity':'sum',\n",
    "                  'Unit Price' : 'mean'\n",
    "              }).reset_index()\n",
    "top_country"
   ]
  },
  {
   "cell_type": "code",
   "execution_count": 57,
   "id": "86ac3068",
   "metadata": {},
   "outputs": [
    {
     "data": {
      "image/png": "[encoded data removed]",
      "text/plain": [
       "<Figure size 432x288 with 1 Axes>"
      ]
     },
     "metadata": {},
     "output_type": "display_data"
    }
   ],
   "source": [
    "#Visualisasi top country berdasarkan priofit yang dihasilkan\n",
    "plt.pie(data = top_country,x='Profit', labels='Country', autopct='%1.1f%%')\n",
    "plt.show()"
   ]
  },
  {
   "cell_type": "code",
   "execution_count": 58,
   "id": "07dd38e5",
   "metadata": {},
   "outputs": [
    {
     "data": {
      "image/png": "[encoded data removed]",
      "text/plain": [
       "<Figure size 432x288 with 1 Axes>"
      ]
     },
     "metadata": {},
     "output_type": "display_data"
    }
   ],
   "source": [
    "#Visualisasi top country berdasarkan jumlah barang yang dibeli\n",
    "plt.pie(data = top_country,x='Quantity', labels='Country', autopct='%1.1f%%')\n",
    "plt.show()"
   ]
  },
  {
   "cell_type": "code",
   "execution_count": 59,
   "id": "eaab4da9",
   "metadata": {},
   "outputs": [
    {
     "data": {
      "image/png": "[encoded data removed]",
      "text/plain": [
       "<Figure size 432x288 with 1 Axes>"
      ]
     },
     "metadata": {
      "needs_background": "light"
     },
     "output_type": "display_data"
    }
   ],
   "source": [
    "#Mencari top country berdasarkan Unit Price\n",
    "top_price = top_country.sort_values(by='Unit Price',ascending=False).head(5)\n",
    "#Visualisasi top product berdasarkan Quantity\n",
    "ax = sns.barplot(data=top_price, x='Country', y='Unit Price', palette='magma')\n",
    "ax.set_xticklabels(ax.get_xticklabels(), rotation=45, horizontalalignment='right')\n",
    "for p in ax.patches:\n",
    "    ax.annotate(f'{p.get_height():.2f}', (p.get_x() + p.get_width() / 2., p.get_height()), ha='center', va='center', fontsize=10, color='black', xytext=(0, 5), textcoords='offset points')\n",
    "plt.show()"
   ]
  },
  {
   "cell_type": "markdown",
   "id": "bec63134",
   "metadata": {},
   "source": [
    "United States menjadi negara yang paling konsumtif dibanding negara lainnya. Banyaknya data transaksi yang terjadi di United States bahkan melebihi setengah (51.9%) dari jumlah transaksi yang terjadi di keempat negara. Tetapi, jika dilihat dari segi profit, United States hanya menyumbang 31% dari total profit. Berbanding terbalik dengan Germany yang memiliki profit paling besar yaitu sebesar 42.4 % dari total profit tetapi hanya menyumbang 14.9 % dari total jumlah barang yang dibeli.\n",
    "\n",
    "Jika kita melihat kembali antara negara Germany dan United States pada visualisasi diatas, menjadi masuk akal jika united states memiliki jumlah pembeli yang leih banyak dibandingkan dengan germany. Hal ini dikarenakan harga rata-rata produk di United States jauh lebih murah dibanding di Germany sehingga jumlah pembelinya menjadi lebih banyak. Sementara karena harganya yang rendah membut profit yang dihasilkan oleh United States juga jauh lebih rendah dibanding Germany. "
   ]
  },
  {
   "cell_type": "code",
   "execution_count": 36,
   "id": "656723dd",
   "metadata": {},
   "outputs": [
    {
     "data": {
      "text/html": [
       "<div>\n",
       "<style scoped>\n",
       "    .dataframe tbody tr th:only-of-type {\n",
       "        vertical-align: middle;\n",
       "    }\n",
       "\n",
       "    .dataframe tbody tr th {\n",
       "        vertical-align: top;\n",
       "    }\n",
       "\n",
       "    .dataframe thead th {\n",
       "        text-align: right;\n",
       "    }\n",
       "</style>\n",
       "<table border=\"1\" class=\"dataframe\">\n",
       "  <thead>\n",
       "    <tr style=\"text-align: right;\">\n",
       "      <th></th>\n",
       "      <th>index</th>\n",
       "      <th>Date</th>\n",
       "      <th>Year</th>\n",
       "      <th>Month</th>\n",
       "      <th>Customer Age</th>\n",
       "      <th>Customer Gender</th>\n",
       "      <th>Country</th>\n",
       "      <th>State</th>\n",
       "      <th>Product Category</th>\n",
       "      <th>Sub Category</th>\n",
       "      <th>Quantity</th>\n",
       "      <th>Unit Cost</th>\n",
       "      <th>Unit Price</th>\n",
       "      <th>Cost</th>\n",
       "      <th>Revenue</th>\n",
       "      <th>Unit Profit</th>\n",
       "      <th>Profit</th>\n",
       "      <th>Age_Segmentation</th>\n",
       "    </tr>\n",
       "  </thead>\n",
       "  <tbody>\n",
       "    <tr>\n",
       "      <th>376</th>\n",
       "      <td>376</td>\n",
       "      <td>01/29/16</td>\n",
       "      <td>2016.0</td>\n",
       "      <td>January</td>\n",
       "      <td>41.0</td>\n",
       "      <td>M</td>\n",
       "      <td>Germany</td>\n",
       "      <td>Hessen</td>\n",
       "      <td>Accessories</td>\n",
       "      <td>Tires and Tubes</td>\n",
       "      <td>1.0</td>\n",
       "      <td>660.0</td>\n",
       "      <td>1066.0</td>\n",
       "      <td>660.0</td>\n",
       "      <td>1066.0</td>\n",
       "      <td>406.0</td>\n",
       "      <td>406.0</td>\n",
       "      <td>Dewasa</td>\n",
       "    </tr>\n",
       "    <tr>\n",
       "      <th>377</th>\n",
       "      <td>377</td>\n",
       "      <td>01/29/16</td>\n",
       "      <td>2016.0</td>\n",
       "      <td>January</td>\n",
       "      <td>41.0</td>\n",
       "      <td>M</td>\n",
       "      <td>Germany</td>\n",
       "      <td>Hessen</td>\n",
       "      <td>Accessories</td>\n",
       "      <td>Tires and Tubes</td>\n",
       "      <td>1.0</td>\n",
       "      <td>37.0</td>\n",
       "      <td>56.0</td>\n",
       "      <td>37.0</td>\n",
       "      <td>56.0</td>\n",
       "      <td>19.0</td>\n",
       "      <td>19.0</td>\n",
       "      <td>Dewasa</td>\n",
       "    </tr>\n",
       "    <tr>\n",
       "      <th>378</th>\n",
       "      <td>378</td>\n",
       "      <td>03/19/16</td>\n",
       "      <td>2016.0</td>\n",
       "      <td>March</td>\n",
       "      <td>41.0</td>\n",
       "      <td>M</td>\n",
       "      <td>Germany</td>\n",
       "      <td>Hessen</td>\n",
       "      <td>Bikes</td>\n",
       "      <td>Touring Bikes</td>\n",
       "      <td>1.0</td>\n",
       "      <td>2384.0</td>\n",
       "      <td>2988.0</td>\n",
       "      <td>2384.0</td>\n",
       "      <td>2988.0</td>\n",
       "      <td>604.0</td>\n",
       "      <td>604.0</td>\n",
       "      <td>Dewasa</td>\n",
       "    </tr>\n",
       "    <tr>\n",
       "      <th>379</th>\n",
       "      <td>379</td>\n",
       "      <td>03/19/16</td>\n",
       "      <td>2016.0</td>\n",
       "      <td>March</td>\n",
       "      <td>41.0</td>\n",
       "      <td>M</td>\n",
       "      <td>Germany</td>\n",
       "      <td>Hessen</td>\n",
       "      <td>Accessories</td>\n",
       "      <td>Tires and Tubes</td>\n",
       "      <td>2.0</td>\n",
       "      <td>377.0</td>\n",
       "      <td>589.0</td>\n",
       "      <td>754.0</td>\n",
       "      <td>1178.0</td>\n",
       "      <td>212.0</td>\n",
       "      <td>424.0</td>\n",
       "      <td>Dewasa</td>\n",
       "    </tr>\n",
       "    <tr>\n",
       "      <th>380</th>\n",
       "      <td>380</td>\n",
       "      <td>03/19/16</td>\n",
       "      <td>2016.0</td>\n",
       "      <td>March</td>\n",
       "      <td>41.0</td>\n",
       "      <td>M</td>\n",
       "      <td>Germany</td>\n",
       "      <td>Hessen</td>\n",
       "      <td>Accessories</td>\n",
       "      <td>Tires and Tubes</td>\n",
       "      <td>2.0</td>\n",
       "      <td>37.5</td>\n",
       "      <td>56.5</td>\n",
       "      <td>75.0</td>\n",
       "      <td>113.0</td>\n",
       "      <td>19.0</td>\n",
       "      <td>38.0</td>\n",
       "      <td>Dewasa</td>\n",
       "    </tr>\n",
       "  </tbody>\n",
       "</table>\n",
       "</div>"
      ],
      "text/plain": [
       "     index      Date    Year    Month  Customer Age Customer Gender  Country  \\\n",
       "376    376  01/29/16  2016.0  January          41.0               M  Germany   \n",
       "377    377  01/29/16  2016.0  January          41.0               M  Germany   \n",
       "378    378  03/19/16  2016.0    March          41.0               M  Germany   \n",
       "379    379  03/19/16  2016.0    March          41.0               M  Germany   \n",
       "380    380  03/19/16  2016.0    March          41.0               M  Germany   \n",
       "\n",
       "      State Product Category     Sub Category  Quantity  Unit Cost  \\\n",
       "376  Hessen      Accessories  Tires and Tubes       1.0      660.0   \n",
       "377  Hessen      Accessories  Tires and Tubes       1.0       37.0   \n",
       "378  Hessen            Bikes    Touring Bikes       1.0     2384.0   \n",
       "379  Hessen      Accessories  Tires and Tubes       2.0      377.0   \n",
       "380  Hessen      Accessories  Tires and Tubes       2.0       37.5   \n",
       "\n",
       "     Unit Price    Cost  Revenue  Unit Profit  Profit Age_Segmentation  \n",
       "376      1066.0   660.0   1066.0        406.0   406.0           Dewasa  \n",
       "377        56.0    37.0     56.0         19.0    19.0           Dewasa  \n",
       "378      2988.0  2384.0   2988.0        604.0   604.0           Dewasa  \n",
       "379       589.0   754.0   1178.0        212.0   424.0           Dewasa  \n",
       "380        56.5    75.0    113.0         19.0    38.0           Dewasa  "
      ]
     },
     "execution_count": 36,
     "metadata": {},
     "output_type": "execute_result"
    }
   ],
   "source": [
    "cs_Germany = df[df['Country']=='Germany']\n",
    "cs_Germany.head()"
   ]
  },
  {
   "cell_type": "code",
   "execution_count": 72,
   "id": "458039c8",
   "metadata": {},
   "outputs": [
    {
     "data": {
      "text/html": [
       "<div>\n",
       "<style scoped>\n",
       "    .dataframe tbody tr th:only-of-type {\n",
       "        vertical-align: middle;\n",
       "    }\n",
       "\n",
       "    .dataframe tbody tr th {\n",
       "        vertical-align: top;\n",
       "    }\n",
       "\n",
       "    .dataframe thead th {\n",
       "        text-align: right;\n",
       "    }\n",
       "</style>\n",
       "<table border=\"1\" class=\"dataframe\">\n",
       "  <thead>\n",
       "    <tr style=\"text-align: right;\">\n",
       "      <th></th>\n",
       "      <th>Country</th>\n",
       "      <th>Top 1</th>\n",
       "      <th>Top 2</th>\n",
       "      <th>Top 3</th>\n",
       "    </tr>\n",
       "  </thead>\n",
       "  <tbody>\n",
       "    <tr>\n",
       "      <th>0</th>\n",
       "      <td>France</td>\n",
       "      <td>Tires and Tubes</td>\n",
       "      <td>Bottles and Cages</td>\n",
       "      <td>Helmets</td>\n",
       "    </tr>\n",
       "    <tr>\n",
       "      <th>1</th>\n",
       "      <td>Germany</td>\n",
       "      <td>Tires and Tubes</td>\n",
       "      <td>Bottles and Cages</td>\n",
       "      <td>Helmets</td>\n",
       "    </tr>\n",
       "    <tr>\n",
       "      <th>2</th>\n",
       "      <td>United Kingdom</td>\n",
       "      <td>Tires and Tubes</td>\n",
       "      <td>Bottles and Cages</td>\n",
       "      <td>Helmets</td>\n",
       "    </tr>\n",
       "    <tr>\n",
       "      <th>3</th>\n",
       "      <td>United States</td>\n",
       "      <td>Tires and Tubes</td>\n",
       "      <td>Bottles and Cages</td>\n",
       "      <td>Helmets</td>\n",
       "    </tr>\n",
       "  </tbody>\n",
       "</table>\n",
       "</div>"
      ],
      "text/plain": [
       "          Country            Top 1              Top 2    Top 3\n",
       "0          France  Tires and Tubes  Bottles and Cages  Helmets\n",
       "1         Germany  Tires and Tubes  Bottles and Cages  Helmets\n",
       "2  United Kingdom  Tires and Tubes  Bottles and Cages  Helmets\n",
       "3   United States  Tires and Tubes  Bottles and Cages  Helmets"
      ]
     },
     "execution_count": 72,
     "metadata": {},
     "output_type": "execute_result"
    }
   ],
   "source": [
    "sub_category_counts = df.groupby(['Country', 'Sub Category']).size().reset_index(name='Count')\n",
    "sub_category_counts = sub_category_counts.sort_values(by=['Country', 'Count'], ascending=[True, False])\n",
    "top_3_sub_categories = {}\n",
    "for country in sub_category_counts['Country'].unique():\n",
    "    top_3_sub_categories[country] = sub_category_counts[sub_category_counts['Country'] == country].head(3)['Sub Category'].tolist()\n",
    "result_df = pd.DataFrame(top_3_sub_categories).T.reset_index()\n",
    "result_df = result_df.rename(columns={'index':'Country',0:'Top 1', 1:'Top 2',2:'Top 3'})\n",
    "result_df"
   ]
  },
  {
   "cell_type": "code",
   "execution_count": 73,
   "id": "e9becaf8",
   "metadata": {},
   "outputs": [
    {
     "data": {
      "application/vnd.plotly.v1+json": {
       "config": {
        "plotlyServerURL": "https://plot.ly"
       },
       "data": [
        {
         "alignmentgroup": "True",
         "hovertemplate": "Sub Category=Tires and Tubes<br>Country=%{x}<br>Count=%{y}<extra></extra>",
         "legendgroup": "Tires and Tubes",
         "marker": {
          "color": "#636efa",
          "pattern": {
           "shape": ""
          }
         },
         "name": "Tires and Tubes",
         "offsetgroup": "Tires and Tubes",
         "orientation": "v",
         "showlegend": true,
         "textposition": "outside",
         "texttemplate": "%{y}",
         "type": "bar",
         "x": [
          "France",
          "Germany",
          "United Kingdom",
          "United States"
         ],
         "xaxis": "x",
         "y": [
          1741,
          1530,
          1970,
          5871
         ],
         "yaxis": "y"
        },
        {
         "alignmentgroup": "True",
         "hovertemplate": "Sub Category=Bottles and Cages<br>Country=%{x}<br>Count=%{y}<extra></extra>",
         "legendgroup": "Bottles and Cages",
         "marker": {
          "color": "#EF553B",
          "pattern": {
           "shape": ""
          }
         },
         "name": "Bottles and Cages",
         "offsetgroup": "Bottles and Cages",
         "orientation": "v",
         "showlegend": true,
         "textposition": "outside",
         "texttemplate": "%{y}",
         "type": "bar",
         "x": [
          "France",
          "Germany",
          "United Kingdom",
          "United States"
         ],
         "xaxis": "x",
         "y": [
          687,
          757,
          929,
          2922
         ],
         "yaxis": "y"
        },
        {
         "alignmentgroup": "True",
         "hovertemplate": "Sub Category=Helmets<br>Country=%{x}<br>Count=%{y}<extra></extra>",
         "legendgroup": "Helmets",
         "marker": {
          "color": "#00cc96",
          "pattern": {
           "shape": ""
          }
         },
         "name": "Helmets",
         "offsetgroup": "Helmets",
         "orientation": "v",
         "showlegend": true,
         "textposition": "outside",
         "texttemplate": "%{y}",
         "type": "bar",
         "x": [
          "France",
          "Germany",
          "United Kingdom",
          "United States"
         ],
         "xaxis": "x",
         "y": [
          665,
          679,
          814,
          2018
         ],
         "yaxis": "y"
        },
        {
         "alignmentgroup": "True",
         "hovertemplate": "Sub Category=Road Bikes<br>Country=%{x}<br>Count=%{y}<extra></extra>",
         "legendgroup": "Road Bikes",
         "marker": {
          "color": "#ab63fa",
          "pattern": {
           "shape": ""
          }
         },
         "name": "Road Bikes",
         "offsetgroup": "Road Bikes",
         "orientation": "v",
         "showlegend": true,
         "textposition": "outside",
         "texttemplate": "%{y}",
         "type": "bar",
         "x": [
          "France",
          "Germany",
          "United Kingdom",
          "United States"
         ],
         "xaxis": "x",
         "y": [
          532,
          576,
          672,
          1242
         ],
         "yaxis": "y"
        },
        {
         "alignmentgroup": "True",
         "hovertemplate": "Sub Category=Mountain Bikes<br>Country=%{x}<br>Count=%{y}<extra></extra>",
         "legendgroup": "Mountain Bikes",
         "marker": {
          "color": "#FFA15A",
          "pattern": {
           "shape": ""
          }
         },
         "name": "Mountain Bikes",
         "offsetgroup": "Mountain Bikes",
         "orientation": "v",
         "showlegend": true,
         "textposition": "outside",
         "texttemplate": "%{y}",
         "type": "bar",
         "x": [
          "France",
          "Germany",
          "United Kingdom",
          "United States"
         ],
         "xaxis": "x",
         "y": [
          412,
          457,
          526,
          1342
         ],
         "yaxis": "y"
        },
        {
         "alignmentgroup": "True",
         "hovertemplate": "Sub Category=Jerseys<br>Country=%{x}<br>Count=%{y}<extra></extra>",
         "legendgroup": "Jerseys",
         "marker": {
          "color": "#19d3f3",
          "pattern": {
           "shape": ""
          }
         },
         "name": "Jerseys",
         "offsetgroup": "Jerseys",
         "orientation": "v",
         "showlegend": true,
         "textposition": "outside",
         "texttemplate": "%{y}",
         "type": "bar",
         "x": [
          "France",
          "Germany",
          "United Kingdom",
          "United States"
         ],
         "xaxis": "x",
         "y": [
          305,
          294,
          377,
          1024
         ],
         "yaxis": "y"
        },
        {
         "alignmentgroup": "True",
         "hovertemplate": "Sub Category=Caps<br>Country=%{x}<br>Count=%{y}<extra></extra>",
         "legendgroup": "Caps",
         "marker": {
          "color": "#FF6692",
          "pattern": {
           "shape": ""
          }
         },
         "name": "Caps",
         "offsetgroup": "Caps",
         "orientation": "v",
         "showlegend": true,
         "textposition": "outside",
         "texttemplate": "%{y}",
         "type": "bar",
         "x": [
          "France",
          "Germany",
          "United Kingdom",
          "United States"
         ],
         "xaxis": "x",
         "y": [
          237,
          277,
          330,
          673
         ],
         "yaxis": "y"
        },
        {
         "alignmentgroup": "True",
         "hovertemplate": "Sub Category=Touring Bikes<br>Country=%{x}<br>Count=%{y}<extra></extra>",
         "legendgroup": "Touring Bikes",
         "marker": {
          "color": "#B6E880",
          "pattern": {
           "shape": ""
          }
         },
         "name": "Touring Bikes",
         "offsetgroup": "Touring Bikes",
         "orientation": "v",
         "showlegend": true,
         "textposition": "outside",
         "texttemplate": "%{y}",
         "type": "bar",
         "x": [
          "France",
          "Germany",
          "United Kingdom",
          "United States"
         ],
         "xaxis": "x",
         "y": [
          208,
          258,
          299,
          569
         ],
         "yaxis": "y"
        },
        {
         "alignmentgroup": "True",
         "hovertemplate": "Sub Category=Fenders<br>Country=%{x}<br>Count=%{y}<extra></extra>",
         "legendgroup": "Fenders",
         "marker": {
          "color": "#FF97FF",
          "pattern": {
           "shape": ""
          }
         },
         "name": "Fenders",
         "offsetgroup": "Fenders",
         "orientation": "v",
         "showlegend": true,
         "textposition": "outside",
         "texttemplate": "%{y}",
         "type": "bar",
         "x": [
          "France",
          "Germany",
          "United Kingdom",
          "United States"
         ],
         "xaxis": "x",
         "y": [
          62,
          97,
          86,
          517
         ],
         "yaxis": "y"
        },
        {
         "alignmentgroup": "True",
         "hovertemplate": "Sub Category=Gloves<br>Country=%{x}<br>Count=%{y}<extra></extra>",
         "legendgroup": "Gloves",
         "marker": {
          "color": "#FECB52",
          "pattern": {
           "shape": ""
          }
         },
         "name": "Gloves",
         "offsetgroup": "Gloves",
         "orientation": "v",
         "showlegend": true,
         "textposition": "outside",
         "texttemplate": "%{y}",
         "type": "bar",
         "x": [
          "France",
          "Germany",
          "United Kingdom",
          "United States"
         ],
         "xaxis": "x",
         "y": [
          54,
          53,
          77,
          296
         ],
         "yaxis": "y"
        },
        {
         "alignmentgroup": "True",
         "hovertemplate": "Sub Category=Hydration Packs<br>Country=%{x}<br>Count=%{y}<extra></extra>",
         "legendgroup": "Hydration Packs",
         "marker": {
          "color": "#636efa",
          "pattern": {
           "shape": ""
          }
         },
         "name": "Hydration Packs",
         "offsetgroup": "Hydration Packs",
         "orientation": "v",
         "showlegend": true,
         "textposition": "outside",
         "texttemplate": "%{y}",
         "type": "bar",
         "x": [
          "France",
          "Germany",
          "United Kingdom",
          "United States"
         ],
         "xaxis": "x",
         "y": [
          53,
          38,
          66,
          239
         ],
         "yaxis": "y"
        },
        {
         "alignmentgroup": "True",
         "hovertemplate": "Sub Category=Shorts<br>Country=%{x}<br>Count=%{y}<extra></extra>",
         "legendgroup": "Shorts",
         "marker": {
          "color": "#EF553B",
          "pattern": {
           "shape": ""
          }
         },
         "name": "Shorts",
         "offsetgroup": "Shorts",
         "orientation": "v",
         "showlegend": true,
         "textposition": "outside",
         "texttemplate": "%{y}",
         "type": "bar",
         "x": [
          "France",
          "Germany",
          "United Kingdom",
          "United States"
         ],
         "xaxis": "x",
         "y": [
          53,
          9,
          49,
          455
         ],
         "yaxis": "y"
        },
        {
         "alignmentgroup": "True",
         "hovertemplate": "Sub Category=Cleaners<br>Country=%{x}<br>Count=%{y}<extra></extra>",
         "legendgroup": "Cleaners",
         "marker": {
          "color": "#00cc96",
          "pattern": {
           "shape": ""
          }
         },
         "name": "Cleaners",
         "offsetgroup": "Cleaners",
         "orientation": "v",
         "showlegend": true,
         "textposition": "outside",
         "texttemplate": "%{y}",
         "type": "bar",
         "x": [
          "France",
          "Germany",
          "United Kingdom",
          "United States"
         ],
         "xaxis": "x",
         "y": [
          52,
          64,
          77,
          352
         ],
         "yaxis": "y"
        },
        {
         "alignmentgroup": "True",
         "hovertemplate": "Sub Category=Vests<br>Country=%{x}<br>Count=%{y}<extra></extra>",
         "legendgroup": "Vests",
         "marker": {
          "color": "#ab63fa",
          "pattern": {
           "shape": ""
          }
         },
         "name": "Vests",
         "offsetgroup": "Vests",
         "orientation": "v",
         "showlegend": true,
         "textposition": "outside",
         "texttemplate": "%{y}",
         "type": "bar",
         "x": [
          "France",
          "Germany",
          "United Kingdom",
          "United States"
         ],
         "xaxis": "x",
         "y": [
          42,
          42,
          42,
          186
         ],
         "yaxis": "y"
        },
        {
         "alignmentgroup": "True",
         "hovertemplate": "Sub Category=Socks<br>Country=%{x}<br>Count=%{y}<extra></extra>",
         "legendgroup": "Socks",
         "marker": {
          "color": "#FFA15A",
          "pattern": {
           "shape": ""
          }
         },
         "name": "Socks",
         "offsetgroup": "Socks",
         "orientation": "v",
         "showlegend": true,
         "textposition": "outside",
         "texttemplate": "%{y}",
         "type": "bar",
         "x": [
          "France",
          "Germany",
          "United Kingdom",
          "United States"
         ],
         "xaxis": "x",
         "y": [
          32,
          35,
          63,
          234
         ],
         "yaxis": "y"
        },
        {
         "alignmentgroup": "True",
         "hovertemplate": "Sub Category=Bike Stands<br>Country=%{x}<br>Count=%{y}<extra></extra>",
         "legendgroup": "Bike Stands",
         "marker": {
          "color": "#19d3f3",
          "pattern": {
           "shape": ""
          }
         },
         "name": "Bike Stands",
         "offsetgroup": "Bike Stands",
         "orientation": "v",
         "showlegend": true,
         "textposition": "outside",
         "texttemplate": "%{y}",
         "type": "bar",
         "x": [
          "France",
          "Germany",
          "United Kingdom",
          "United States"
         ],
         "xaxis": "x",
         "y": [
          19,
          20,
          28,
          78
         ],
         "yaxis": "y"
        },
        {
         "alignmentgroup": "True",
         "hovertemplate": "Sub Category=Bike Racks<br>Country=%{x}<br>Count=%{y}<extra></extra>",
         "legendgroup": "Bike Racks",
         "marker": {
          "color": "#FF6692",
          "pattern": {
           "shape": ""
          }
         },
         "name": "Bike Racks",
         "offsetgroup": "Bike Racks",
         "orientation": "v",
         "showlegend": true,
         "textposition": "outside",
         "texttemplate": "%{y}",
         "type": "bar",
         "x": [
          "France",
          "Germany",
          "United Kingdom",
          "United States"
         ],
         "xaxis": "x",
         "y": [
          14,
          15,
          16,
          58
         ],
         "yaxis": "y"
        }
       ],
       "layout": {
        "barmode": "group",
        "legend": {
         "title": {
          "text": "Sub Category"
         },
         "tracegroupgap": 0
        },
        "template": {
         "data": {
          "bar": [
           {
            "error_x": {
             "color": "#2a3f5f"
            },
            "error_y": {
             "color": "#2a3f5f"
            },
            "marker": {
             "line": {
              "color": "#E5ECF6",
              "width": 0.5
             },
             "pattern": {
              "fillmode": "overlay",
              "size": 10,
              "solidity": 0.2
             }
            },
            "type": "bar"
           }
          ],
          "barpolar": [
           {
            "marker": {
             "line": {
              "color": "#E5ECF6",
              "width": 0.5
             },
             "pattern": {
              "fillmode": "overlay",
              "size": 10,
              "solidity": 0.2
             }
            },
            "type": "barpolar"
           }
          ],
          "carpet": [
           {
            "aaxis": {
             "endlinecolor": "#2a3f5f",
             "gridcolor": "white",
             "linecolor": "white",
             "minorgridcolor": "white",
             "startlinecolor": "#2a3f5f"
            },
            "baxis": {
             "endlinecolor": "#2a3f5f",
             "gridcolor": "white",
             "linecolor": "white",
             "minorgridcolor": "white",
             "startlinecolor": "#2a3f5f"
            },
            "type": "carpet"
           }
          ],
          "choropleth": [
           {
            "colorbar": {
             "outlinewidth": 0,
             "ticks": ""
            },
            "type": "choropleth"
           }
          ],
          "contour": [
           {
            "colorbar": {
             "outlinewidth": 0,
             "ticks": ""
            },
            "colorscale": [
             [
              0,
              "#0d0887"
             ],
             [
              0.1111111111111111,
              "#46039f"
             ],
             [
              0.2222222222222222,
              "#7201a8"
             ],
             [
              0.3333333333333333,
              "#9c179e"
             ],
             [
              0.4444444444444444,
              "#bd3786"
             ],
             [
              0.5555555555555556,
              "#d8576b"
             ],
             [
              0.6666666666666666,
              "#ed7953"
             ],
             [
              0.7777777777777778,
              "#fb9f3a"
             ],
             [
              0.8888888888888888,
              "#fdca26"
             ],
             [
              1,
              "#f0f921"
             ]
            ],
            "type": "contour"
           }
          ],
          "contourcarpet": [
           {
            "colorbar": {
             "outlinewidth": 0,
             "ticks": ""
            },
            "type": "contourcarpet"
           }
          ],
          "heatmap": [
           {
            "colorbar": {
             "outlinewidth": 0,
             "ticks": ""
            },
            "colorscale": [
             [
              0,
              "#0d0887"
             ],
             [
              0.1111111111111111,
              "#46039f"
             ],
             [
              0.2222222222222222,
              "#7201a8"
             ],
             [
              0.3333333333333333,
              "#9c179e"
             ],
             [
              0.4444444444444444,
              "#bd3786"
             ],
             [
              0.5555555555555556,
              "#d8576b"
             ],
             [
              0.6666666666666666,
              "#ed7953"
             ],
             [
              0.7777777777777778,
              "#fb9f3a"
             ],
             [
              0.8888888888888888,
              "#fdca26"
             ],
             [
              1,
              "#f0f921"
             ]
            ],
            "type": "heatmap"
           }
          ],
          "heatmapgl": [
           {
            "colorbar": {
             "outlinewidth": 0,
             "ticks": ""
            },
            "colorscale": [
             [
              0,
              "#0d0887"
             ],
             [
              0.1111111111111111,
              "#46039f"
             ],
             [
              0.2222222222222222,
              "#7201a8"
             ],
             [
              0.3333333333333333,
              "#9c179e"
             ],
             [
              0.4444444444444444,
              "#bd3786"
             ],
             [
              0.5555555555555556,
              "#d8576b"
             ],
             [
              0.6666666666666666,
              "#ed7953"
             ],
             [
              0.7777777777777778,
              "#fb9f3a"
             ],
             [
              0.8888888888888888,
              "#fdca26"
             ],
             [
              1,
              "#f0f921"
             ]
            ],
            "type": "heatmapgl"
           }
          ],
          "histogram": [
           {
            "marker": {
             "pattern": {
              "fillmode": "overlay",
              "size": 10,
              "solidity": 0.2
             }
            },
            "type": "histogram"
           }
          ],
          "histogram2d": [
           {
            "colorbar": {
             "outlinewidth": 0,
             "ticks": ""
            },
            "colorscale": [
             [
              0,
              "#0d0887"
             ],
             [
              0.1111111111111111,
              "#46039f"
             ],
             [
              0.2222222222222222,
              "#7201a8"
             ],
             [
              0.3333333333333333,
              "#9c179e"
             ],
             [
              0.4444444444444444,
              "#bd3786"
             ],
             [
              0.5555555555555556,
              "#d8576b"
             ],
             [
              0.6666666666666666,
              "#ed7953"
             ],
             [
              0.7777777777777778,
              "#fb9f3a"
             ],
             [
              0.8888888888888888,
              "#fdca26"
             ],
             [
              1,
              "#f0f921"
             ]
            ],
            "type": "histogram2d"
           }
          ],
          "histogram2dcontour": [
           {
            "colorbar": {
             "outlinewidth": 0,
             "ticks": ""
            },
            "colorscale": [
             [
              0,
              "#0d0887"
             ],
             [
              0.1111111111111111,
              "#46039f"
             ],
             [
              0.2222222222222222,
              "#7201a8"
             ],
             [
              0.3333333333333333,
              "#9c179e"
             ],
             [
              0.4444444444444444,
              "#bd3786"
             ],
             [
              0.5555555555555556,
              "#d8576b"
             ],
             [
              0.6666666666666666,
              "#ed7953"
             ],
             [
              0.7777777777777778,
              "#fb9f3a"
             ],
             [
              0.8888888888888888,
              "#fdca26"
             ],
             [
              1,
              "#f0f921"
             ]
            ],
            "type": "histogram2dcontour"
           }
          ],
          "mesh3d": [
           {
            "colorbar": {
             "outlinewidth": 0,
             "ticks": ""
            },
            "type": "mesh3d"
           }
          ],
          "parcoords": [
           {
            "line": {
             "colorbar": {
              "outlinewidth": 0,
              "ticks": ""
             }
            },
            "type": "parcoords"
           }
          ],
          "pie": [
           {
            "automargin": true,
            "type": "pie"
           }
          ],
          "scatter": [
           {
            "fillpattern": {
             "fillmode": "overlay",
             "size": 10,
             "solidity": 0.2
            },
            "type": "scatter"
           }
          ],
          "scatter3d": [
           {
            "line": {
             "colorbar": {
              "outlinewidth": 0,
              "ticks": ""
             }
            },
            "marker": {
             "colorbar": {
              "outlinewidth": 0,
              "ticks": ""
             }
            },
            "type": "scatter3d"
           }
          ],
          "scattercarpet": [
           {
            "marker": {
             "colorbar": {
              "outlinewidth": 0,
              "ticks": ""
             }
            },
            "type": "scattercarpet"
           }
          ],
          "scattergeo": [
           {
            "marker": {
             "colorbar": {
              "outlinewidth": 0,
              "ticks": ""
             }
            },
            "type": "scattergeo"
           }
          ],
          "scattergl": [
           {
            "marker": {
             "colorbar": {
              "outlinewidth": 0,
              "ticks": ""
             }
            },
            "type": "scattergl"
           }
          ],
          "scattermapbox": [
           {
            "marker": {
             "colorbar": {
              "outlinewidth": 0,
              "ticks": ""
             }
            },
            "type": "scattermapbox"
           }
          ],
          "scatterpolar": [
           {
            "marker": {
             "colorbar": {
              "outlinewidth": 0,
              "ticks": ""
             }
            },
            "type": "scatterpolar"
           }
          ],
          "scatterpolargl": [
           {
            "marker": {
             "colorbar": {
              "outlinewidth": 0,
              "ticks": ""
             }
            },
            "type": "scatterpolargl"
           }
          ],
          "scatterternary": [
           {
            "marker": {
             "colorbar": {
              "outlinewidth": 0,
              "ticks": ""
             }
            },
            "type": "scatterternary"
           }
          ],
          "surface": [
           {
            "colorbar": {
             "outlinewidth": 0,
             "ticks": ""
            },
            "colorscale": [
             [
              0,
              "#0d0887"
             ],
             [
              0.1111111111111111,
              "#46039f"
             ],
             [
              0.2222222222222222,
              "#7201a8"
             ],
             [
              0.3333333333333333,
              "#9c179e"
             ],
             [
              0.4444444444444444,
              "#bd3786"
             ],
             [
              0.5555555555555556,
              "#d8576b"
             ],
             [
              0.6666666666666666,
              "#ed7953"
             ],
             [
              0.7777777777777778,
              "#fb9f3a"
             ],
             [
              0.8888888888888888,
              "#fdca26"
             ],
             [
              1,
              "#f0f921"
             ]
            ],
            "type": "surface"
           }
          ],
          "table": [
           {
            "cells": {
             "fill": {
              "color": "#EBF0F8"
             },
             "line": {
              "color": "white"
             }
            },
            "header": {
             "fill": {
              "color": "#C8D4E3"
             },
             "line": {
              "color": "white"
             }
            },
            "type": "table"
           }
          ]
         },
         "layout": {
          "annotationdefaults": {
           "arrowcolor": "#2a3f5f",
           "arrowhead": 0,
           "arrowwidth": 1
          },
          "autotypenumbers": "strict",
          "coloraxis": {
           "colorbar": {
            "outlinewidth": 0,
            "ticks": ""
           }
          },
          "colorscale": {
           "diverging": [
            [
             0,
             "#8e0152"
            ],
            [
             0.1,
             "#c51b7d"
            ],
            [
             0.2,
             "#de77ae"
            ],
            [
             0.3,
             "#f1b6da"
            ],
            [
             0.4,
             "#fde0ef"
            ],
            [
             0.5,
             "#f7f7f7"
            ],
            [
             0.6,
             "#e6f5d0"
            ],
            [
             0.7,
             "#b8e186"
            ],
            [
             0.8,
             "#7fbc41"
            ],
            [
             0.9,
             "#4d9221"
            ],
            [
             1,
             "#276419"
            ]
           ],
           "sequential": [
            [
             0,
             "#0d0887"
            ],
            [
             0.1111111111111111,
             "#46039f"
            ],
            [
             0.2222222222222222,
             "#7201a8"
            ],
            [
             0.3333333333333333,
             "#9c179e"
            ],
            [
             0.4444444444444444,
             "#bd3786"
            ],
            [
             0.5555555555555556,
             "#d8576b"
            ],
            [
             0.6666666666666666,
             "#ed7953"
            ],
            [
             0.7777777777777778,
             "#fb9f3a"
            ],
            [
             0.8888888888888888,
             "#fdca26"
            ],
            [
             1,
             "#f0f921"
            ]
           ],
           "sequentialminus": [
            [
             0,
             "#0d0887"
            ],
            [
             0.1111111111111111,
             "#46039f"
            ],
            [
             0.2222222222222222,
             "#7201a8"
            ],
            [
             0.3333333333333333,
             "#9c179e"
            ],
            [
             0.4444444444444444,
             "#bd3786"
            ],
            [
             0.5555555555555556,
             "#d8576b"
            ],
            [
             0.6666666666666666,
             "#ed7953"
            ],
            [
             0.7777777777777778,
             "#fb9f3a"
            ],
            [
             0.8888888888888888,
             "#fdca26"
            ],
            [
             1,
             "#f0f921"
            ]
           ]
          },
          "colorway": [
           "#636efa",
           "#EF553B",
           "#00cc96",
           "#ab63fa",
           "#FFA15A",
           "#19d3f3",
           "#FF6692",
           "#B6E880",
           "#FF97FF",
           "#FECB52"
          ],
          "font": {
           "color": "#2a3f5f"
          },
          "geo": {
           "bgcolor": "white",
           "lakecolor": "white",
           "landcolor": "#E5ECF6",
           "showlakes": true,
           "showland": true,
           "subunitcolor": "white"
          },
          "hoverlabel": {
           "align": "left"
          },
          "hovermode": "closest",
          "mapbox": {
           "style": "light"
          },
          "paper_bgcolor": "white",
          "plot_bgcolor": "#E5ECF6",
          "polar": {
           "angularaxis": {
            "gridcolor": "white",
            "linecolor": "white",
            "ticks": ""
           },
           "bgcolor": "#E5ECF6",
           "radialaxis": {
            "gridcolor": "white",
            "linecolor": "white",
            "ticks": ""
           }
          },
          "scene": {
           "xaxis": {
            "backgroundcolor": "#E5ECF6",
            "gridcolor": "white",
            "gridwidth": 2,
            "linecolor": "white",
            "showbackground": true,
            "ticks": "",
            "zerolinecolor": "white"
           },
           "yaxis": {
            "backgroundcolor": "#E5ECF6",
            "gridcolor": "white",
            "gridwidth": 2,
            "linecolor": "white",
            "showbackground": true,
            "ticks": "",
            "zerolinecolor": "white"
           },
           "zaxis": {
            "backgroundcolor": "#E5ECF6",
            "gridcolor": "white",
            "gridwidth": 2,
            "linecolor": "white",
            "showbackground": true,
            "ticks": "",
            "zerolinecolor": "white"
           }
          },
          "shapedefaults": {
           "line": {
            "color": "#2a3f5f"
           }
          },
          "ternary": {
           "aaxis": {
            "gridcolor": "white",
            "linecolor": "white",
            "ticks": ""
           },
           "baxis": {
            "gridcolor": "white",
            "linecolor": "white",
            "ticks": ""
           },
           "bgcolor": "#E5ECF6",
           "caxis": {
            "gridcolor": "white",
            "linecolor": "white",
            "ticks": ""
           }
          },
          "title": {
           "x": 0.05
          },
          "xaxis": {
           "automargin": true,
           "gridcolor": "white",
           "linecolor": "white",
           "ticks": "",
           "title": {
            "standoff": 15
           },
           "zerolinecolor": "white",
           "zerolinewidth": 2
          },
          "yaxis": {
           "automargin": true,
           "gridcolor": "white",
           "linecolor": "white",
           "ticks": "",
           "title": {
            "standoff": 15
           },
           "zerolinecolor": "white",
           "zerolinewidth": 2
          }
         }
        },
        "title": {
         "text": "Top 3 Sub Categories Purchased by Country"
        },
        "xaxis": {
         "anchor": "y",
         "categoryorder": "total descending",
         "domain": [
          0,
          1
         ],
         "title": {
          "text": "Country"
         }
        },
        "yaxis": {
         "anchor": "x",
         "domain": [
          0,
          1
         ],
         "title": {
          "text": "Count"
         }
        }
       }
      },
      "text/html": [
       "<div>                            <div id=\"eb32e093-ed5b-4c71-9c13-c4e76d8f5e4d\" class=\"plotly-graph-div\" style=\"height:525px; width:100%;\"></div>            <script type=\"text/javascript\">                require([\"plotly\"], function(Plotly) {                    window.PLOTLYENV=window.PLOTLYENV || {};                                    if (document.getElementById(\"eb32e093-ed5b-4c71-9c13-c4e76d8f5e4d\")) {                    Plotly.newPlot(                        \"eb32e093-ed5b-4c71-9c13-c4e76d8f5e4d\",                        [{\"alignmentgroup\":\"True\",\"hovertemplate\":\"Sub Category=Tires and Tubes\\u003cbr\\u003eCountry=%{x}\\u003cbr\\u003eCount=%{y}\\u003cextra\\u003e\\u003c\\u002fextra\\u003e\",\"legendgroup\":\"Tires and Tubes\",\"marker\":{\"color\":\"#636efa\",\"pattern\":{\"shape\":\"\"}},\"name\":\"Tires and Tubes\",\"offsetgroup\":\"Tires and Tubes\",\"orientation\":\"v\",\"showlegend\":true,\"textposition\":\"outside\",\"x\":[\"France\",\"Germany\",\"United Kingdom\",\"United States\"],\"xaxis\":\"x\",\"y\":[1741,1530,1970,5871],\"yaxis\":\"y\",\"type\":\"bar\",\"texttemplate\":\"%{y}\"},{\"alignmentgroup\":\"True\",\"hovertemplate\":\"Sub Category=Bottles and Cages\\u003cbr\\u003eCountry=%{x}\\u003cbr\\u003eCount=%{y}\\u003cextra\\u003e\\u003c\\u002fextra\\u003e\",\"legendgroup\":\"Bottles and Cages\",\"marker\":{\"color\":\"#EF553B\",\"pattern\":{\"shape\":\"\"}},\"name\":\"Bottles and Cages\",\"offsetgroup\":\"Bottles and Cages\",\"orientation\":\"v\",\"showlegend\":true,\"textposition\":\"outside\",\"x\":[\"France\",\"Germany\",\"United Kingdom\",\"United States\"],\"xaxis\":\"x\",\"y\":[687,757,929,2922],\"yaxis\":\"y\",\"type\":\"bar\",\"texttemplate\":\"%{y}\"},{\"alignmentgroup\":\"True\",\"hovertemplate\":\"Sub Category=Helmets\\u003cbr\\u003eCountry=%{x}\\u003cbr\\u003eCount=%{y}\\u003cextra\\u003e\\u003c\\u002fextra\\u003e\",\"legendgroup\":\"Helmets\",\"marker\":{\"color\":\"#00cc96\",\"pattern\":{\"shape\":\"\"}},\"name\":\"Helmets\",\"offsetgroup\":\"Helmets\",\"orientation\":\"v\",\"showlegend\":true,\"textposition\":\"outside\",\"x\":[\"France\",\"Germany\",\"United Kingdom\",\"United States\"],\"xaxis\":\"x\",\"y\":[665,679,814,2018],\"yaxis\":\"y\",\"type\":\"bar\",\"texttemplate\":\"%{y}\"},{\"alignmentgroup\":\"True\",\"hovertemplate\":\"Sub Category=Road Bikes\\u003cbr\\u003eCountry=%{x}\\u003cbr\\u003eCount=%{y}\\u003cextra\\u003e\\u003c\\u002fextra\\u003e\",\"legendgroup\":\"Road Bikes\",\"marker\":{\"color\":\"#ab63fa\",\"pattern\":{\"shape\":\"\"}},\"name\":\"Road Bikes\",\"offsetgroup\":\"Road Bikes\",\"orientation\":\"v\",\"showlegend\":true,\"textposition\":\"outside\",\"x\":[\"France\",\"Germany\",\"United Kingdom\",\"United States\"],\"xaxis\":\"x\",\"y\":[532,576,672,1242],\"yaxis\":\"y\",\"type\":\"bar\",\"texttemplate\":\"%{y}\"},{\"alignmentgroup\":\"True\",\"hovertemplate\":\"Sub Category=Mountain Bikes\\u003cbr\\u003eCountry=%{x}\\u003cbr\\u003eCount=%{y}\\u003cextra\\u003e\\u003c\\u002fextra\\u003e\",\"legendgroup\":\"Mountain Bikes\",\"marker\":{\"color\":\"#FFA15A\",\"pattern\":{\"shape\":\"\"}},\"name\":\"Mountain Bikes\",\"offsetgroup\":\"Mountain Bikes\",\"orientation\":\"v\",\"showlegend\":true,\"textposition\":\"outside\",\"x\":[\"France\",\"Germany\",\"United Kingdom\",\"United States\"],\"xaxis\":\"x\",\"y\":[412,457,526,1342],\"yaxis\":\"y\",\"type\":\"bar\",\"texttemplate\":\"%{y}\"},{\"alignmentgroup\":\"True\",\"hovertemplate\":\"Sub Category=Jerseys\\u003cbr\\u003eCountry=%{x}\\u003cbr\\u003eCount=%{y}\\u003cextra\\u003e\\u003c\\u002fextra\\u003e\",\"legendgroup\":\"Jerseys\",\"marker\":{\"color\":\"#19d3f3\",\"pattern\":{\"shape\":\"\"}},\"name\":\"Jerseys\",\"offsetgroup\":\"Jerseys\",\"orientation\":\"v\",\"showlegend\":true,\"textposition\":\"outside\",\"x\":[\"France\",\"Germany\",\"United Kingdom\",\"United States\"],\"xaxis\":\"x\",\"y\":[305,294,377,1024],\"yaxis\":\"y\",\"type\":\"bar\",\"texttemplate\":\"%{y}\"},{\"alignmentgroup\":\"True\",\"hovertemplate\":\"Sub Category=Caps\\u003cbr\\u003eCountry=%{x}\\u003cbr\\u003eCount=%{y}\\u003cextra\\u003e\\u003c\\u002fextra\\u003e\",\"legendgroup\":\"Caps\",\"marker\":{\"color\":\"#FF6692\",\"pattern\":{\"shape\":\"\"}},\"name\":\"Caps\",\"offsetgroup\":\"Caps\",\"orientation\":\"v\",\"showlegend\":true,\"textposition\":\"outside\",\"x\":[\"France\",\"Germany\",\"United Kingdom\",\"United States\"],\"xaxis\":\"x\",\"y\":[237,277,330,673],\"yaxis\":\"y\",\"type\":\"bar\",\"texttemplate\":\"%{y}\"},{\"alignmentgroup\":\"True\",\"hovertemplate\":\"Sub Category=Touring Bikes\\u003cbr\\u003eCountry=%{x}\\u003cbr\\u003eCount=%{y}\\u003cextra\\u003e\\u003c\\u002fextra\\u003e\",\"legendgroup\":\"Touring Bikes\",\"marker\":{\"color\":\"#B6E880\",\"pattern\":{\"shape\":\"\"}},\"name\":\"Touring Bikes\",\"offsetgroup\":\"Touring Bikes\",\"orientation\":\"v\",\"showlegend\":true,\"textposition\":\"outside\",\"x\":[\"France\",\"Germany\",\"United Kingdom\",\"United States\"],\"xaxis\":\"x\",\"y\":[208,258,299,569],\"yaxis\":\"y\",\"type\":\"bar\",\"texttemplate\":\"%{y}\"},{\"alignmentgroup\":\"True\",\"hovertemplate\":\"Sub Category=Fenders\\u003cbr\\u003eCountry=%{x}\\u003cbr\\u003eCount=%{y}\\u003cextra\\u003e\\u003c\\u002fextra\\u003e\",\"legendgroup\":\"Fenders\",\"marker\":{\"color\":\"#FF97FF\",\"pattern\":{\"shape\":\"\"}},\"name\":\"Fenders\",\"offsetgroup\":\"Fenders\",\"orientation\":\"v\",\"showlegend\":true,\"textposition\":\"outside\",\"x\":[\"France\",\"Germany\",\"United Kingdom\",\"United States\"],\"xaxis\":\"x\",\"y\":[62,97,86,517],\"yaxis\":\"y\",\"type\":\"bar\",\"texttemplate\":\"%{y}\"},{\"alignmentgroup\":\"True\",\"hovertemplate\":\"Sub Category=Gloves\\u003cbr\\u003eCountry=%{x}\\u003cbr\\u003eCount=%{y}\\u003cextra\\u003e\\u003c\\u002fextra\\u003e\",\"legendgroup\":\"Gloves\",\"marker\":{\"color\":\"#FECB52\",\"pattern\":{\"shape\":\"\"}},\"name\":\"Gloves\",\"offsetgroup\":\"Gloves\",\"orientation\":\"v\",\"showlegend\":true,\"textposition\":\"outside\",\"x\":[\"France\",\"Germany\",\"United Kingdom\",\"United States\"],\"xaxis\":\"x\",\"y\":[54,53,77,296],\"yaxis\":\"y\",\"type\":\"bar\",\"texttemplate\":\"%{y}\"},{\"alignmentgroup\":\"True\",\"hovertemplate\":\"Sub Category=Hydration Packs\\u003cbr\\u003eCountry=%{x}\\u003cbr\\u003eCount=%{y}\\u003cextra\\u003e\\u003c\\u002fextra\\u003e\",\"legendgroup\":\"Hydration Packs\",\"marker\":{\"color\":\"#636efa\",\"pattern\":{\"shape\":\"\"}},\"name\":\"Hydration Packs\",\"offsetgroup\":\"Hydration Packs\",\"orientation\":\"v\",\"showlegend\":true,\"textposition\":\"outside\",\"x\":[\"France\",\"Germany\",\"United Kingdom\",\"United States\"],\"xaxis\":\"x\",\"y\":[53,38,66,239],\"yaxis\":\"y\",\"type\":\"bar\",\"texttemplate\":\"%{y}\"},{\"alignmentgroup\":\"True\",\"hovertemplate\":\"Sub Category=Shorts\\u003cbr\\u003eCountry=%{x}\\u003cbr\\u003eCount=%{y}\\u003cextra\\u003e\\u003c\\u002fextra\\u003e\",\"legendgroup\":\"Shorts\",\"marker\":{\"color\":\"#EF553B\",\"pattern\":{\"shape\":\"\"}},\"name\":\"Shorts\",\"offsetgroup\":\"Shorts\",\"orientation\":\"v\",\"showlegend\":true,\"textposition\":\"outside\",\"x\":[\"France\",\"Germany\",\"United Kingdom\",\"United States\"],\"xaxis\":\"x\",\"y\":[53,9,49,455],\"yaxis\":\"y\",\"type\":\"bar\",\"texttemplate\":\"%{y}\"},{\"alignmentgroup\":\"True\",\"hovertemplate\":\"Sub Category=Cleaners\\u003cbr\\u003eCountry=%{x}\\u003cbr\\u003eCount=%{y}\\u003cextra\\u003e\\u003c\\u002fextra\\u003e\",\"legendgroup\":\"Cleaners\",\"marker\":{\"color\":\"#00cc96\",\"pattern\":{\"shape\":\"\"}},\"name\":\"Cleaners\",\"offsetgroup\":\"Cleaners\",\"orientation\":\"v\",\"showlegend\":true,\"textposition\":\"outside\",\"x\":[\"France\",\"Germany\",\"United Kingdom\",\"United States\"],\"xaxis\":\"x\",\"y\":[52,64,77,352],\"yaxis\":\"y\",\"type\":\"bar\",\"texttemplate\":\"%{y}\"},{\"alignmentgroup\":\"True\",\"hovertemplate\":\"Sub Category=Vests\\u003cbr\\u003eCountry=%{x}\\u003cbr\\u003eCount=%{y}\\u003cextra\\u003e\\u003c\\u002fextra\\u003e\",\"legendgroup\":\"Vests\",\"marker\":{\"color\":\"#ab63fa\",\"pattern\":{\"shape\":\"\"}},\"name\":\"Vests\",\"offsetgroup\":\"Vests\",\"orientation\":\"v\",\"showlegend\":true,\"textposition\":\"outside\",\"x\":[\"France\",\"Germany\",\"United Kingdom\",\"United States\"],\"xaxis\":\"x\",\"y\":[42,42,42,186],\"yaxis\":\"y\",\"type\":\"bar\",\"texttemplate\":\"%{y}\"},{\"alignmentgroup\":\"True\",\"hovertemplate\":\"Sub Category=Socks\\u003cbr\\u003eCountry=%{x}\\u003cbr\\u003eCount=%{y}\\u003cextra\\u003e\\u003c\\u002fextra\\u003e\",\"legendgroup\":\"Socks\",\"marker\":{\"color\":\"#FFA15A\",\"pattern\":{\"shape\":\"\"}},\"name\":\"Socks\",\"offsetgroup\":\"Socks\",\"orientation\":\"v\",\"showlegend\":true,\"textposition\":\"outside\",\"x\":[\"France\",\"Germany\",\"United Kingdom\",\"United States\"],\"xaxis\":\"x\",\"y\":[32,35,63,234],\"yaxis\":\"y\",\"type\":\"bar\",\"texttemplate\":\"%{y}\"},{\"alignmentgroup\":\"True\",\"hovertemplate\":\"Sub Category=Bike Stands\\u003cbr\\u003eCountry=%{x}\\u003cbr\\u003eCount=%{y}\\u003cextra\\u003e\\u003c\\u002fextra\\u003e\",\"legendgroup\":\"Bike Stands\",\"marker\":{\"color\":\"#19d3f3\",\"pattern\":{\"shape\":\"\"}},\"name\":\"Bike Stands\",\"offsetgroup\":\"Bike Stands\",\"orientation\":\"v\",\"showlegend\":true,\"textposition\":\"outside\",\"x\":[\"France\",\"Germany\",\"United Kingdom\",\"United States\"],\"xaxis\":\"x\",\"y\":[19,20,28,78],\"yaxis\":\"y\",\"type\":\"bar\",\"texttemplate\":\"%{y}\"},{\"alignmentgroup\":\"True\",\"hovertemplate\":\"Sub Category=Bike Racks\\u003cbr\\u003eCountry=%{x}\\u003cbr\\u003eCount=%{y}\\u003cextra\\u003e\\u003c\\u002fextra\\u003e\",\"legendgroup\":\"Bike Racks\",\"marker\":{\"color\":\"#FF6692\",\"pattern\":{\"shape\":\"\"}},\"name\":\"Bike Racks\",\"offsetgroup\":\"Bike Racks\",\"orientation\":\"v\",\"showlegend\":true,\"textposition\":\"outside\",\"x\":[\"France\",\"Germany\",\"United Kingdom\",\"United States\"],\"xaxis\":\"x\",\"y\":[14,15,16,58],\"yaxis\":\"y\",\"type\":\"bar\",\"texttemplate\":\"%{y}\"}],                        {\"template\":{\"data\":{\"histogram2dcontour\":[{\"type\":\"histogram2dcontour\",\"colorbar\":{\"outlinewidth\":0,\"ticks\":\"\"},\"colorscale\":[[0.0,\"#0d0887\"],[0.1111111111111111,\"#46039f\"],[0.2222222222222222,\"#7201a8\"],[0.3333333333333333,\"#9c179e\"],[0.4444444444444444,\"#bd3786\"],[0.5555555555555556,\"#d8576b\"],[0.6666666666666666,\"#ed7953\"],[0.7777777777777778,\"#fb9f3a\"],[0.8888888888888888,\"#fdca26\"],[1.0,\"#f0f921\"]]}],\"choropleth\":[{\"type\":\"choropleth\",\"colorbar\":{\"outlinewidth\":0,\"ticks\":\"\"}}],\"histogram2d\":[{\"type\":\"histogram2d\",\"colorbar\":{\"outlinewidth\":0,\"ticks\":\"\"},\"colorscale\":[[0.0,\"#0d0887\"],[0.1111111111111111,\"#46039f\"],[0.2222222222222222,\"#7201a8\"],[0.3333333333333333,\"#9c179e\"],[0.4444444444444444,\"#bd3786\"],[0.5555555555555556,\"#d8576b\"],[0.6666666666666666,\"#ed7953\"],[0.7777777777777778,\"#fb9f3a\"],[0.8888888888888888,\"#fdca26\"],[1.0,\"#f0f921\"]]}],\"heatmap\":[{\"type\":\"heatmap\",\"colorbar\":{\"outlinewidth\":0,\"ticks\":\"\"},\"colorscale\":[[0.0,\"#0d0887\"],[0.1111111111111111,\"#46039f\"],[0.2222222222222222,\"#7201a8\"],[0.3333333333333333,\"#9c179e\"],[0.4444444444444444,\"#bd3786\"],[0.5555555555555556,\"#d8576b\"],[0.6666666666666666,\"#ed7953\"],[0.7777777777777778,\"#fb9f3a\"],[0.8888888888888888,\"#fdca26\"],[1.0,\"#f0f921\"]]}],\"heatmapgl\":[{\"type\":\"heatmapgl\",\"colorbar\":{\"outlinewidth\":0,\"ticks\":\"\"},\"colorscale\":[[0.0,\"#0d0887\"],[0.1111111111111111,\"#46039f\"],[0.2222222222222222,\"#7201a8\"],[0.3333333333333333,\"#9c179e\"],[0.4444444444444444,\"#bd3786\"],[0.5555555555555556,\"#d8576b\"],[0.6666666666666666,\"#ed7953\"],[0.7777777777777778,\"#fb9f3a\"],[0.8888888888888888,\"#fdca26\"],[1.0,\"#f0f921\"]]}],\"contourcarpet\":[{\"type\":\"contourcarpet\",\"colorbar\":{\"outlinewidth\":0,\"ticks\":\"\"}}],\"contour\":[{\"type\":\"contour\",\"colorbar\":{\"outlinewidth\":0,\"ticks\":\"\"},\"colorscale\":[[0.0,\"#0d0887\"],[0.1111111111111111,\"#46039f\"],[0.2222222222222222,\"#7201a8\"],[0.3333333333333333,\"#9c179e\"],[0.4444444444444444,\"#bd3786\"],[0.5555555555555556,\"#d8576b\"],[0.6666666666666666,\"#ed7953\"],[0.7777777777777778,\"#fb9f3a\"],[0.8888888888888888,\"#fdca26\"],[1.0,\"#f0f921\"]]}],\"surface\":[{\"type\":\"surface\",\"colorbar\":{\"outlinewidth\":0,\"ticks\":\"\"},\"colorscale\":[[0.0,\"#0d0887\"],[0.1111111111111111,\"#46039f\"],[0.2222222222222222,\"#7201a8\"],[0.3333333333333333,\"#9c179e\"],[0.4444444444444444,\"#bd3786\"],[0.5555555555555556,\"#d8576b\"],[0.6666666666666666,\"#ed7953\"],[0.7777777777777778,\"#fb9f3a\"],[0.8888888888888888,\"#fdca26\"],[1.0,\"#f0f921\"]]}],\"mesh3d\":[{\"type\":\"mesh3d\",\"colorbar\":{\"outlinewidth\":0,\"ticks\":\"\"}}],\"scatter\":[{\"fillpattern\":{\"fillmode\":\"overlay\",\"size\":10,\"solidity\":0.2},\"type\":\"scatter\"}],\"parcoords\":[{\"type\":\"parcoords\",\"line\":{\"colorbar\":{\"outlinewidth\":0,\"ticks\":\"\"}}}],\"scatterpolargl\":[{\"type\":\"scatterpolargl\",\"marker\":{\"colorbar\":{\"outlinewidth\":0,\"ticks\":\"\"}}}],\"bar\":[{\"error_x\":{\"color\":\"#2a3f5f\"},\"error_y\":{\"color\":\"#2a3f5f\"},\"marker\":{\"line\":{\"color\":\"#E5ECF6\",\"width\":0.5},\"pattern\":{\"fillmode\":\"overlay\",\"size\":10,\"solidity\":0.2}},\"type\":\"bar\"}],\"scattergeo\":[{\"type\":\"scattergeo\",\"marker\":{\"colorbar\":{\"outlinewidth\":0,\"ticks\":\"\"}}}],\"scatterpolar\":[{\"type\":\"scatterpolar\",\"marker\":{\"colorbar\":{\"outlinewidth\":0,\"ticks\":\"\"}}}],\"histogram\":[{\"marker\":{\"pattern\":{\"fillmode\":\"overlay\",\"size\":10,\"solidity\":0.2}},\"type\":\"histogram\"}],\"scattergl\":[{\"type\":\"scattergl\",\"marker\":{\"colorbar\":{\"outlinewidth\":0,\"ticks\":\"\"}}}],\"scatter3d\":[{\"type\":\"scatter3d\",\"line\":{\"colorbar\":{\"outlinewidth\":0,\"ticks\":\"\"}},\"marker\":{\"colorbar\":{\"outlinewidth\":0,\"ticks\":\"\"}}}],\"scattermapbox\":[{\"type\":\"scattermapbox\",\"marker\":{\"colorbar\":{\"outlinewidth\":0,\"ticks\":\"\"}}}],\"scatterternary\":[{\"type\":\"scatterternary\",\"marker\":{\"colorbar\":{\"outlinewidth\":0,\"ticks\":\"\"}}}],\"scattercarpet\":[{\"type\":\"scattercarpet\",\"marker\":{\"colorbar\":{\"outlinewidth\":0,\"ticks\":\"\"}}}],\"carpet\":[{\"aaxis\":{\"endlinecolor\":\"#2a3f5f\",\"gridcolor\":\"white\",\"linecolor\":\"white\",\"minorgridcolor\":\"white\",\"startlinecolor\":\"#2a3f5f\"},\"baxis\":{\"endlinecolor\":\"#2a3f5f\",\"gridcolor\":\"white\",\"linecolor\":\"white\",\"minorgridcolor\":\"white\",\"startlinecolor\":\"#2a3f5f\"},\"type\":\"carpet\"}],\"table\":[{\"cells\":{\"fill\":{\"color\":\"#EBF0F8\"},\"line\":{\"color\":\"white\"}},\"header\":{\"fill\":{\"color\":\"#C8D4E3\"},\"line\":{\"color\":\"white\"}},\"type\":\"table\"}],\"barpolar\":[{\"marker\":{\"line\":{\"color\":\"#E5ECF6\",\"width\":0.5},\"pattern\":{\"fillmode\":\"overlay\",\"size\":10,\"solidity\":0.2}},\"type\":\"barpolar\"}],\"pie\":[{\"automargin\":true,\"type\":\"pie\"}]},\"layout\":{\"autotypenumbers\":\"strict\",\"colorway\":[\"#636efa\",\"#EF553B\",\"#00cc96\",\"#ab63fa\",\"#FFA15A\",\"#19d3f3\",\"#FF6692\",\"#B6E880\",\"#FF97FF\",\"#FECB52\"],\"font\":{\"color\":\"#2a3f5f\"},\"hovermode\":\"closest\",\"hoverlabel\":{\"align\":\"left\"},\"paper_bgcolor\":\"white\",\"plot_bgcolor\":\"#E5ECF6\",\"polar\":{\"bgcolor\":\"#E5ECF6\",\"angularaxis\":{\"gridcolor\":\"white\",\"linecolor\":\"white\",\"ticks\":\"\"},\"radialaxis\":{\"gridcolor\":\"white\",\"linecolor\":\"white\",\"ticks\":\"\"}},\"ternary\":{\"bgcolor\":\"#E5ECF6\",\"aaxis\":{\"gridcolor\":\"white\",\"linecolor\":\"white\",\"ticks\":\"\"},\"baxis\":{\"gridcolor\":\"white\",\"linecolor\":\"white\",\"ticks\":\"\"},\"caxis\":{\"gridcolor\":\"white\",\"linecolor\":\"white\",\"ticks\":\"\"}},\"coloraxis\":{\"colorbar\":{\"outlinewidth\":0,\"ticks\":\"\"}},\"colorscale\":{\"sequential\":[[0.0,\"#0d0887\"],[0.1111111111111111,\"#46039f\"],[0.2222222222222222,\"#7201a8\"],[0.3333333333333333,\"#9c179e\"],[0.4444444444444444,\"#bd3786\"],[0.5555555555555556,\"#d8576b\"],[0.6666666666666666,\"#ed7953\"],[0.7777777777777778,\"#fb9f3a\"],[0.8888888888888888,\"#fdca26\"],[1.0,\"#f0f921\"]],\"sequentialminus\":[[0.0,\"#0d0887\"],[0.1111111111111111,\"#46039f\"],[0.2222222222222222,\"#7201a8\"],[0.3333333333333333,\"#9c179e\"],[0.4444444444444444,\"#bd3786\"],[0.5555555555555556,\"#d8576b\"],[0.6666666666666666,\"#ed7953\"],[0.7777777777777778,\"#fb9f3a\"],[0.8888888888888888,\"#fdca26\"],[1.0,\"#f0f921\"]],\"diverging\":[[0,\"#8e0152\"],[0.1,\"#c51b7d\"],[0.2,\"#de77ae\"],[0.3,\"#f1b6da\"],[0.4,\"#fde0ef\"],[0.5,\"#f7f7f7\"],[0.6,\"#e6f5d0\"],[0.7,\"#b8e186\"],[0.8,\"#7fbc41\"],[0.9,\"#4d9221\"],[1,\"#276419\"]]},\"xaxis\":{\"gridcolor\":\"white\",\"linecolor\":\"white\",\"ticks\":\"\",\"title\":{\"standoff\":15},\"zerolinecolor\":\"white\",\"automargin\":true,\"zerolinewidth\":2},\"yaxis\":{\"gridcolor\":\"white\",\"linecolor\":\"white\",\"ticks\":\"\",\"title\":{\"standoff\":15},\"zerolinecolor\":\"white\",\"automargin\":true,\"zerolinewidth\":2},\"scene\":{\"xaxis\":{\"backgroundcolor\":\"#E5ECF6\",\"gridcolor\":\"white\",\"linecolor\":\"white\",\"showbackground\":true,\"ticks\":\"\",\"zerolinecolor\":\"white\",\"gridwidth\":2},\"yaxis\":{\"backgroundcolor\":\"#E5ECF6\",\"gridcolor\":\"white\",\"linecolor\":\"white\",\"showbackground\":true,\"ticks\":\"\",\"zerolinecolor\":\"white\",\"gridwidth\":2},\"zaxis\":{\"backgroundcolor\":\"#E5ECF6\",\"gridcolor\":\"white\",\"linecolor\":\"white\",\"showbackground\":true,\"ticks\":\"\",\"zerolinecolor\":\"white\",\"gridwidth\":2}},\"shapedefaults\":{\"line\":{\"color\":\"#2a3f5f\"}},\"annotationdefaults\":{\"arrowcolor\":\"#2a3f5f\",\"arrowhead\":0,\"arrowwidth\":1},\"geo\":{\"bgcolor\":\"white\",\"landcolor\":\"#E5ECF6\",\"subunitcolor\":\"white\",\"showland\":true,\"showlakes\":true,\"lakecolor\":\"white\"},\"title\":{\"x\":0.05},\"mapbox\":{\"style\":\"light\"}}},\"xaxis\":{\"anchor\":\"y\",\"domain\":[0.0,1.0],\"title\":{\"text\":\"Country\"},\"categoryorder\":\"total descending\"},\"yaxis\":{\"anchor\":\"x\",\"domain\":[0.0,1.0],\"title\":{\"text\":\"Count\"}},\"legend\":{\"title\":{\"text\":\"Sub Category\"},\"tracegroupgap\":0},\"title\":{\"text\":\"Top 3 Sub Categories Purchased by Country\"},\"barmode\":\"group\"},                        {\"responsive\": true}                    ).then(function(){\n",
       "                            \n",
       "var gd = document.getElementById('eb32e093-ed5b-4c71-9c13-c4e76d8f5e4d');\n",
       "var x = new MutationObserver(function (mutations, observer) {{\n",
       "        var display = window.getComputedStyle(gd).display;\n",
       "        if (!display || display === 'none') {{\n",
       "            console.log([gd, 'removed!']);\n",
       "            Plotly.purge(gd);\n",
       "            observer.disconnect();\n",
       "        }}\n",
       "}});\n",
       "\n",
       "// Listen for the removal of the full notebook cells\n",
       "var notebookContainer = gd.closest('#notebook-container');\n",
       "if (notebookContainer) {{\n",
       "    x.observe(notebookContainer, {childList: true});\n",
       "}}\n",
       "\n",
       "// Listen for the clearing of the current output cell\n",
       "var outputEl = gd.closest('.output');\n",
       "if (outputEl) {{\n",
       "    x.observe(outputEl, {childList: true});\n",
       "}}\n",
       "\n",
       "                        })                };                });            </script>        </div>"
      ]
     },
     "metadata": {},
     "output_type": "display_data"
    }
   ],
   "source": [
    "import plotly.express as px\n",
    "\n",
    "# Filter data untuk mendapatkan 3 negara pertama\n",
    "top_3_countries = sub_category_counts['Country'].unique()[:4]\n",
    "filtered_data = sub_category_counts[sub_category_counts['Country'].isin(top_3_countries)]\n",
    "\n",
    "# Membuat grafik batang interaktif\n",
    "fig = px.bar(\n",
    "    filtered_data,\n",
    "    x='Country',\n",
    "    y='Count',\n",
    "    color='Sub Category',\n",
    "    barmode='group',\n",
    "    title='Top 3 Sub Categories Purchased by Country'\n",
    ")\n",
    "\n",
    "# Menambahkan interaktivitas\n",
    "fig.update_traces(texttemplate='%{y}', textposition='outside')\n",
    "fig.update_layout(xaxis={'categoryorder':'total descending'})\n",
    "\n",
    "# Menampilkan grafik\n",
    "fig.show()\n"
   ]
  },
  {
   "cell_type": "markdown",
   "id": "f068a033",
   "metadata": {},
   "source": [
    "Top produk yang paling sering dibeli tiap negara memiliki kesamaan yaitu tires and tubes kemudian diikuti bottles and cages dan helmets. 3 produk ini bisa dijadikan acuan untuk produk-produk lainnya baik dari segi marketing maupun diskon yang diberikan sehingga diharapkan produk-produk lainnya akan meningkat jumlah pembeliannya.  "
   ]
  },
  {
   "cell_type": "markdown",
   "id": "89128320",
   "metadata": {},
   "source": [
    "# Segmentasi Umur Csutomer"
   ]
  },
  {
   "cell_type": "markdown",
   "id": "35f596eb",
   "metadata": {},
   "source": [
    "Untuk mempermudah menganalisis umur customer, diperlukan kolom baru yang mengelompokan kategori umur customer tersebut. Berikut adalah ketentuan pengelompokannya. \n",
    "1. age <= 11 : Anak-anak\n",
    "2. age > 11 dan age <= 25 : Remaja\n",
    "3. age > 25 dan age <= 45 : Dewasa\n",
    "4. age > 45 dan age <= 65 : Lansia\n",
    "5. age > 65 : Manula"
   ]
  },
  {
   "cell_type": "code",
   "execution_count": 28,
   "id": "7544af1d",
   "metadata": {},
   "outputs": [
    {
     "data": {
      "text/html": [
       "<div>\n",
       "<style scoped>\n",
       "    .dataframe tbody tr th:only-of-type {\n",
       "        vertical-align: middle;\n",
       "    }\n",
       "\n",
       "    .dataframe tbody tr th {\n",
       "        vertical-align: top;\n",
       "    }\n",
       "\n",
       "    .dataframe thead th {\n",
       "        text-align: right;\n",
       "    }\n",
       "</style>\n",
       "<table border=\"1\" class=\"dataframe\">\n",
       "  <thead>\n",
       "    <tr style=\"text-align: right;\">\n",
       "      <th></th>\n",
       "      <th>index</th>\n",
       "      <th>Date</th>\n",
       "      <th>Year</th>\n",
       "      <th>Month</th>\n",
       "      <th>Customer Age</th>\n",
       "      <th>Customer Gender</th>\n",
       "      <th>Country</th>\n",
       "      <th>State</th>\n",
       "      <th>Product Category</th>\n",
       "      <th>Sub Category</th>\n",
       "      <th>Quantity</th>\n",
       "      <th>Unit Cost</th>\n",
       "      <th>Unit Price</th>\n",
       "      <th>Cost</th>\n",
       "      <th>Revenue</th>\n",
       "      <th>Unit Profit</th>\n",
       "      <th>Profit</th>\n",
       "      <th>Age_Segmentation</th>\n",
       "    </tr>\n",
       "  </thead>\n",
       "  <tbody>\n",
       "    <tr>\n",
       "      <th>0</th>\n",
       "      <td>0</td>\n",
       "      <td>02/19/16</td>\n",
       "      <td>2016.0</td>\n",
       "      <td>February</td>\n",
       "      <td>29.0</td>\n",
       "      <td>F</td>\n",
       "      <td>United States</td>\n",
       "      <td>Washington</td>\n",
       "      <td>Accessories</td>\n",
       "      <td>Tires and Tubes</td>\n",
       "      <td>1.0</td>\n",
       "      <td>80.00</td>\n",
       "      <td>109.000000</td>\n",
       "      <td>80.0</td>\n",
       "      <td>109.0</td>\n",
       "      <td>29.000000</td>\n",
       "      <td>29.0</td>\n",
       "      <td>Dewasa</td>\n",
       "    </tr>\n",
       "    <tr>\n",
       "      <th>1</th>\n",
       "      <td>1</td>\n",
       "      <td>02/20/16</td>\n",
       "      <td>2016.0</td>\n",
       "      <td>February</td>\n",
       "      <td>29.0</td>\n",
       "      <td>F</td>\n",
       "      <td>United States</td>\n",
       "      <td>Washington</td>\n",
       "      <td>Clothing</td>\n",
       "      <td>Gloves</td>\n",
       "      <td>2.0</td>\n",
       "      <td>24.50</td>\n",
       "      <td>28.500000</td>\n",
       "      <td>49.0</td>\n",
       "      <td>57.0</td>\n",
       "      <td>4.000000</td>\n",
       "      <td>8.0</td>\n",
       "      <td>Dewasa</td>\n",
       "    </tr>\n",
       "    <tr>\n",
       "      <th>2</th>\n",
       "      <td>2</td>\n",
       "      <td>02/27/16</td>\n",
       "      <td>2016.0</td>\n",
       "      <td>February</td>\n",
       "      <td>29.0</td>\n",
       "      <td>F</td>\n",
       "      <td>United States</td>\n",
       "      <td>Washington</td>\n",
       "      <td>Accessories</td>\n",
       "      <td>Tires and Tubes</td>\n",
       "      <td>3.0</td>\n",
       "      <td>3.67</td>\n",
       "      <td>5.000000</td>\n",
       "      <td>11.0</td>\n",
       "      <td>15.0</td>\n",
       "      <td>1.330000</td>\n",
       "      <td>4.0</td>\n",
       "      <td>Dewasa</td>\n",
       "    </tr>\n",
       "    <tr>\n",
       "      <th>3</th>\n",
       "      <td>3</td>\n",
       "      <td>03/12/16</td>\n",
       "      <td>2016.0</td>\n",
       "      <td>March</td>\n",
       "      <td>29.0</td>\n",
       "      <td>F</td>\n",
       "      <td>United States</td>\n",
       "      <td>Washington</td>\n",
       "      <td>Accessories</td>\n",
       "      <td>Tires and Tubes</td>\n",
       "      <td>2.0</td>\n",
       "      <td>87.50</td>\n",
       "      <td>116.500000</td>\n",
       "      <td>175.0</td>\n",
       "      <td>233.0</td>\n",
       "      <td>29.000000</td>\n",
       "      <td>58.0</td>\n",
       "      <td>Dewasa</td>\n",
       "    </tr>\n",
       "    <tr>\n",
       "      <th>4</th>\n",
       "      <td>4</td>\n",
       "      <td>03/12/16</td>\n",
       "      <td>2016.0</td>\n",
       "      <td>March</td>\n",
       "      <td>29.0</td>\n",
       "      <td>F</td>\n",
       "      <td>United States</td>\n",
       "      <td>Washington</td>\n",
       "      <td>Accessories</td>\n",
       "      <td>Tires and Tubes</td>\n",
       "      <td>3.0</td>\n",
       "      <td>35.00</td>\n",
       "      <td>41.666667</td>\n",
       "      <td>105.0</td>\n",
       "      <td>125.0</td>\n",
       "      <td>6.666667</td>\n",
       "      <td>20.0</td>\n",
       "      <td>Dewasa</td>\n",
       "    </tr>\n",
       "  </tbody>\n",
       "</table>\n",
       "</div>"
      ],
      "text/plain": [
       "   index      Date    Year     Month  Customer Age Customer Gender  \\\n",
       "0      0  02/19/16  2016.0  February          29.0               F   \n",
       "1      1  02/20/16  2016.0  February          29.0               F   \n",
       "2      2  02/27/16  2016.0  February          29.0               F   \n",
       "3      3  03/12/16  2016.0     March          29.0               F   \n",
       "4      4  03/12/16  2016.0     March          29.0               F   \n",
       "\n",
       "         Country       State Product Category     Sub Category  Quantity  \\\n",
       "0  United States  Washington      Accessories  Tires and Tubes       1.0   \n",
       "1  United States  Washington         Clothing           Gloves       2.0   \n",
       "2  United States  Washington      Accessories  Tires and Tubes       3.0   \n",
       "3  United States  Washington      Accessories  Tires and Tubes       2.0   \n",
       "4  United States  Washington      Accessories  Tires and Tubes       3.0   \n",
       "\n",
       "   Unit Cost  Unit Price   Cost  Revenue  Unit Profit  Profit Age_Segmentation  \n",
       "0      80.00  109.000000   80.0    109.0    29.000000    29.0           Dewasa  \n",
       "1      24.50   28.500000   49.0     57.0     4.000000     8.0           Dewasa  \n",
       "2       3.67    5.000000   11.0     15.0     1.330000     4.0           Dewasa  \n",
       "3      87.50  116.500000  175.0    233.0    29.000000    58.0           Dewasa  \n",
       "4      35.00   41.666667  105.0    125.0     6.666667    20.0           Dewasa  "
      ]
     },
     "execution_count": 28,
     "metadata": {},
     "output_type": "execute_result"
    }
   ],
   "source": [
    "#Membuat kolom baru bernama age_segmentation\n",
    "df['Age_Segmentation'] = df['Customer Age']\n",
    "#Membuat fungsi bernama map_age_to_category yang berisi aturan pengelompokan\n",
    "def map_age_to_category(Age_Segmentation):\n",
    "    if Age_Segmentation <= 11:\n",
    "        return 'Anak-anak'\n",
    "    if Age_Segmentation > 11 and Age_Segmentation <= 25 :\n",
    "        return 'Remaja'\n",
    "    if Age_Segmentation > 25 and Age_Segmentation <= 45 :\n",
    "        return 'Dewasa'\n",
    "    if Age_Segmentation > 45 and Age_Segmentation <= 65 :\n",
    "        return 'Lansia'\n",
    "    else:\n",
    "        return 'Manula'\n",
    "#Memasukan fungsi ke dalam kolom age_segmentation\n",
    "df['Age_Segmentation'] = df['Age_Segmentation'].apply(map_age_to_category)\n",
    "df.head()"
   ]
  },
  {
   "cell_type": "code",
   "execution_count": 29,
   "id": "7871339a",
   "metadata": {},
   "outputs": [
    {
     "data": {
      "text/html": [
       "<div>\n",
       "<style scoped>\n",
       "    .dataframe tbody tr th:only-of-type {\n",
       "        vertical-align: middle;\n",
       "    }\n",
       "\n",
       "    .dataframe tbody tr th {\n",
       "        vertical-align: top;\n",
       "    }\n",
       "\n",
       "    .dataframe thead th {\n",
       "        text-align: right;\n",
       "    }\n",
       "</style>\n",
       "<table border=\"1\" class=\"dataframe\">\n",
       "  <thead>\n",
       "    <tr style=\"text-align: right;\">\n",
       "      <th></th>\n",
       "      <th>Age_Segmentation</th>\n",
       "      <th>Profit</th>\n",
       "      <th>Quantity</th>\n",
       "      <th>Jumlah</th>\n",
       "    </tr>\n",
       "  </thead>\n",
       "  <tbody>\n",
       "    <tr>\n",
       "      <th>0</th>\n",
       "      <td>Dewasa</td>\n",
       "      <td>1435865.0</td>\n",
       "      <td>43144.0</td>\n",
       "      <td>21514</td>\n",
       "    </tr>\n",
       "    <tr>\n",
       "      <th>1</th>\n",
       "      <td>Lansia</td>\n",
       "      <td>445886.0</td>\n",
       "      <td>14162.0</td>\n",
       "      <td>7058</td>\n",
       "    </tr>\n",
       "    <tr>\n",
       "      <th>2</th>\n",
       "      <td>Manula</td>\n",
       "      <td>17129.0</td>\n",
       "      <td>429.0</td>\n",
       "      <td>218</td>\n",
       "    </tr>\n",
       "    <tr>\n",
       "      <th>3</th>\n",
       "      <td>Remaja</td>\n",
       "      <td>362722.0</td>\n",
       "      <td>12085.0</td>\n",
       "      <td>6076</td>\n",
       "    </tr>\n",
       "  </tbody>\n",
       "</table>\n",
       "</div>"
      ],
      "text/plain": [
       "  Age_Segmentation     Profit  Quantity  Jumlah\n",
       "0           Dewasa  1435865.0   43144.0   21514\n",
       "1           Lansia   445886.0   14162.0    7058\n",
       "2           Manula    17129.0     429.0     218\n",
       "3           Remaja   362722.0   12085.0    6076"
      ]
     },
     "execution_count": 29,
     "metadata": {},
     "output_type": "execute_result"
    }
   ],
   "source": [
    "#Membuat pivot table dengan index age_segmentation\n",
    "Age_segment = pd.pivot_table(df, index=['Age_Segmentation'],\n",
    "              aggfunc={\n",
    "                  'index':'count',\n",
    "                  'Profit':'sum',\n",
    "                  'Quantity':'sum'\n",
    "              }).reset_index()\n",
    "Age_segment = Age_segment.rename(columns={'index':'Jumlah'}) \n",
    "Age_segment"
   ]
  },
  {
   "cell_type": "code",
   "execution_count": 30,
   "id": "c4981e84",
   "metadata": {},
   "outputs": [
    {
     "data": {
      "text/plain": [
       "array(['Dewasa', 'Remaja', 'Lansia', 'Manula'], dtype=object)"
      ]
     },
     "execution_count": 30,
     "metadata": {},
     "output_type": "execute_result"
    }
   ],
   "source": [
    "df['Age_Segmentation'].unique()"
   ]
  },
  {
   "cell_type": "code",
   "execution_count": 31,
   "id": "bac1acbc",
   "metadata": {},
   "outputs": [
    {
     "data": {
      "image/png": "[encoded data removed]",
      "text/plain": [
       "<Figure size 432x288 with 1 Axes>"
      ]
     },
     "metadata": {},
     "output_type": "display_data"
    }
   ],
   "source": [
    "#Visualisasi top age_segmentation berdasarkan jumlah customernya\n",
    "plt.pie(data = Age_segment,x='Jumlah', labels='Age_Segmentation', autopct='%1.1f%%')\n",
    "plt.show()"
   ]
  },
  {
   "cell_type": "code",
   "execution_count": 32,
   "id": "4ac89a78",
   "metadata": {},
   "outputs": [
    {
     "data": {
      "image/png": "[encoded data removed]",
      "text/plain": [
       "<Figure size 432x288 with 1 Axes>"
      ]
     },
     "metadata": {},
     "output_type": "display_data"
    }
   ],
   "source": [
    "#Visualisasi top age_segmentation berdasarkan jumlah barang yang dibeli\n",
    "plt.pie(data = Age_segment,x='Quantity', labels='Age_Segmentation', autopct='%1.1f%%')\n",
    "plt.show()"
   ]
  },
  {
   "cell_type": "code",
   "execution_count": 33,
   "id": "498a415b",
   "metadata": {},
   "outputs": [
    {
     "data": {
      "image/png": "[encoded data removed]",
      "text/plain": [
       "<Figure size 432x288 with 1 Axes>"
      ]
     },
     "metadata": {},
     "output_type": "display_data"
    }
   ],
   "source": [
    "#Visualisasi top age_segmentation berdasarkan profit\n",
    "plt.pie(data = Age_segment,x='Profit', labels='Age_Segmentation', autopct='%1.1f%%')\n",
    "plt.show()"
   ]
  },
  {
   "cell_type": "markdown",
   "id": "bb643541",
   "metadata": {},
   "source": [
    "Berdasarkan data diatas dapat dilihat bahwa customer yang memiliki daya beli paling tinggi adalah customer dengan kelompok umur Dewasa. Baik dari segi jumlahnya, kemudian quantity maupun profit kelompok umur dewasa merupakan yang tertinggi bahkan besarnya mencapai 60% lebih dari total keseluruhan.\n",
    "\n",
    "Sementara customer dengan kategori umur Remaja harus sangat diperhatikan. Karena besarnya cukup kecil hanya belasa persen baik dari segi jumlah, quantity maupun profit. Padahal, kategori inilah yang nantinya akan masuk kedalam kategori dewasa. Hal ini tentu bisa menurunkan daya beli kategori dewasa nantinya, sehingga kategori ini pelru mendapatkan perhatian khusus agar daya belinya tidak berkurang atau bahkan bertambah setiap tahunnya. Perhatian khusus yang bisa dilakukan kepada kategori ini bisa seperti pemberian diskon khusus dan menarik untuk kategori Remaja."
   ]
  },
  {
   "cell_type": "code",
   "execution_count": 69,
   "id": "87257295",
   "metadata": {},
   "outputs": [
    {
     "data": {
      "text/html": [
       "<div>\n",
       "<style scoped>\n",
       "    .dataframe tbody tr th:only-of-type {\n",
       "        vertical-align: middle;\n",
       "    }\n",
       "\n",
       "    .dataframe tbody tr th {\n",
       "        vertical-align: top;\n",
       "    }\n",
       "\n",
       "    .dataframe thead th {\n",
       "        text-align: right;\n",
       "    }\n",
       "</style>\n",
       "<table border=\"1\" class=\"dataframe\">\n",
       "  <thead>\n",
       "    <tr style=\"text-align: right;\">\n",
       "      <th></th>\n",
       "      <th>Age_Segmentation</th>\n",
       "      <th>Top 1</th>\n",
       "      <th>Top 2</th>\n",
       "      <th>Top 3</th>\n",
       "    </tr>\n",
       "  </thead>\n",
       "  <tbody>\n",
       "    <tr>\n",
       "      <th>0</th>\n",
       "      <td>Dewasa</td>\n",
       "      <td>Tires and Tubes</td>\n",
       "      <td>Bottles and Cages</td>\n",
       "      <td>Helmets</td>\n",
       "    </tr>\n",
       "    <tr>\n",
       "      <th>1</th>\n",
       "      <td>Lansia</td>\n",
       "      <td>Tires and Tubes</td>\n",
       "      <td>Bottles and Cages</td>\n",
       "      <td>Helmets</td>\n",
       "    </tr>\n",
       "    <tr>\n",
       "      <th>2</th>\n",
       "      <td>Manula</td>\n",
       "      <td>Tires and Tubes</td>\n",
       "      <td>Helmets</td>\n",
       "      <td>Bottles and Cages</td>\n",
       "    </tr>\n",
       "    <tr>\n",
       "      <th>3</th>\n",
       "      <td>Remaja</td>\n",
       "      <td>Tires and Tubes</td>\n",
       "      <td>Bottles and Cages</td>\n",
       "      <td>Helmets</td>\n",
       "    </tr>\n",
       "  </tbody>\n",
       "</table>\n",
       "</div>"
      ],
      "text/plain": [
       "  Age_Segmentation            Top 1              Top 2              Top 3\n",
       "0           Dewasa  Tires and Tubes  Bottles and Cages            Helmets\n",
       "1           Lansia  Tires and Tubes  Bottles and Cages            Helmets\n",
       "2           Manula  Tires and Tubes            Helmets  Bottles and Cages\n",
       "3           Remaja  Tires and Tubes  Bottles and Cages            Helmets"
      ]
     },
     "execution_count": 69,
     "metadata": {},
     "output_type": "execute_result"
    }
   ],
   "source": [
    "#Membuat top 3 barang yang paling sering dibeli oleh tiap age_segmentation\n",
    "sub_category_counts = df.groupby(['Age_Segmentation', 'Sub Category']).size().reset_index(name='Count')\n",
    "sub_category_counts = sub_category_counts.sort_values(by=['Age_Segmentation', 'Count'], ascending=[True, False])\n",
    "top_3_sub_categories = {}\n",
    "for age_segment in sub_category_counts['Age_Segmentation'].unique():\n",
    "    top_3_sub_categories[age_segment] = sub_category_counts[sub_category_counts['Age_Segmentation'] == age_segment].head(3)['Sub Category'].tolist()\n",
    "result_df = pd.DataFrame(top_3_sub_categories).T.reset_index()\n",
    "result_df = result_df.rename(columns={'index':'Age_Segmentation',0:'Top 1', 1:'Top 2',2:'Top 3'})\n",
    "result_df\n"
   ]
  },
  {
   "cell_type": "code",
   "execution_count": 71,
   "id": "e3f8a7ab",
   "metadata": {},
   "outputs": [
    {
     "data": {
      "application/vnd.plotly.v1+json": {
       "config": {
        "plotlyServerURL": "https://plot.ly"
       },
       "data": [
        {
         "alignmentgroup": "True",
         "hovertemplate": "Sub Category=Tires and Tubes<br>Age_Segmentation=%{x}<br>Count=%{y}<extra></extra>",
         "legendgroup": "Tires and Tubes",
         "marker": {
          "color": "#636efa",
          "pattern": {
           "shape": ""
          }
         },
         "name": "Tires and Tubes",
         "offsetgroup": "Tires and Tubes",
         "orientation": "v",
         "showlegend": true,
         "textposition": "outside",
         "texttemplate": "%{y}",
         "type": "bar",
         "x": [
          "Dewasa",
          "Lansia",
          "Manula",
          "Remaja"
         ],
         "xaxis": "x",
         "y": [
          6162,
          2463,
          117,
          2370
         ],
         "yaxis": "y"
        },
        {
         "alignmentgroup": "True",
         "hovertemplate": "Sub Category=Bottles and Cages<br>Age_Segmentation=%{x}<br>Count=%{y}<extra></extra>",
         "legendgroup": "Bottles and Cages",
         "marker": {
          "color": "#EF553B",
          "pattern": {
           "shape": ""
          }
         },
         "name": "Bottles and Cages",
         "offsetgroup": "Bottles and Cages",
         "orientation": "v",
         "showlegend": true,
         "textposition": "outside",
         "texttemplate": "%{y}",
         "type": "bar",
         "x": [
          "Dewasa",
          "Lansia",
          "Manula",
          "Remaja"
         ],
         "xaxis": "x",
         "y": [
          3284,
          1119,
          16,
          876
         ],
         "yaxis": "y"
        },
        {
         "alignmentgroup": "True",
         "hovertemplate": "Sub Category=Helmets<br>Age_Segmentation=%{x}<br>Count=%{y}<extra></extra>",
         "legendgroup": "Helmets",
         "marker": {
          "color": "#00cc96",
          "pattern": {
           "shape": ""
          }
         },
         "name": "Helmets",
         "offsetgroup": "Helmets",
         "orientation": "v",
         "showlegend": true,
         "textposition": "outside",
         "texttemplate": "%{y}",
         "type": "bar",
         "x": [
          "Dewasa",
          "Lansia",
          "Manula",
          "Remaja"
         ],
         "xaxis": "x",
         "y": [
          2589,
          857,
          25,
          705
         ],
         "yaxis": "y"
        },
        {
         "alignmentgroup": "True",
         "hovertemplate": "Sub Category=Road Bikes<br>Age_Segmentation=%{x}<br>Count=%{y}<extra></extra>",
         "legendgroup": "Road Bikes",
         "marker": {
          "color": "#ab63fa",
          "pattern": {
           "shape": ""
          }
         },
         "name": "Road Bikes",
         "offsetgroup": "Road Bikes",
         "orientation": "v",
         "showlegend": true,
         "textposition": "outside",
         "texttemplate": "%{y}",
         "type": "bar",
         "x": [
          "Dewasa",
          "Lansia",
          "Remaja"
         ],
         "xaxis": "x",
         "y": [
          2213,
          410,
          399
         ],
         "yaxis": "y"
        },
        {
         "alignmentgroup": "True",
         "hovertemplate": "Sub Category=Mountain Bikes<br>Age_Segmentation=%{x}<br>Count=%{y}<extra></extra>",
         "legendgroup": "Mountain Bikes",
         "marker": {
          "color": "#FFA15A",
          "pattern": {
           "shape": ""
          }
         },
         "name": "Mountain Bikes",
         "offsetgroup": "Mountain Bikes",
         "orientation": "v",
         "showlegend": true,
         "textposition": "outside",
         "texttemplate": "%{y}",
         "type": "bar",
         "x": [
          "Dewasa",
          "Lansia",
          "Manula",
          "Remaja"
         ],
         "xaxis": "x",
         "y": [
          1875,
          506,
          5,
          351
         ],
         "yaxis": "y"
        },
        {
         "alignmentgroup": "True",
         "hovertemplate": "Sub Category=Jerseys<br>Age_Segmentation=%{x}<br>Count=%{y}<extra></extra>",
         "legendgroup": "Jerseys",
         "marker": {
          "color": "#19d3f3",
          "pattern": {
           "shape": ""
          }
         },
         "name": "Jerseys",
         "offsetgroup": "Jerseys",
         "orientation": "v",
         "showlegend": true,
         "textposition": "outside",
         "texttemplate": "%{y}",
         "type": "bar",
         "x": [
          "Dewasa",
          "Lansia",
          "Manula",
          "Remaja"
         ],
         "xaxis": "x",
         "y": [
          1248,
          399,
          10,
          343
         ],
         "yaxis": "y"
        },
        {
         "alignmentgroup": "True",
         "hovertemplate": "Sub Category=Touring Bikes<br>Age_Segmentation=%{x}<br>Count=%{y}<extra></extra>",
         "legendgroup": "Touring Bikes",
         "marker": {
          "color": "#FF6692",
          "pattern": {
           "shape": ""
          }
         },
         "name": "Touring Bikes",
         "offsetgroup": "Touring Bikes",
         "orientation": "v",
         "showlegend": true,
         "textposition": "outside",
         "texttemplate": "%{y}",
         "type": "bar",
         "x": [
          "Dewasa",
          "Lansia",
          "Manula",
          "Remaja"
         ],
         "xaxis": "x",
         "y": [
          993,
          205,
          2,
          134
         ],
         "yaxis": "y"
        },
        {
         "alignmentgroup": "True",
         "hovertemplate": "Sub Category=Caps<br>Age_Segmentation=%{x}<br>Count=%{y}<extra></extra>",
         "legendgroup": "Caps",
         "marker": {
          "color": "#B6E880",
          "pattern": {
           "shape": ""
          }
         },
         "name": "Caps",
         "offsetgroup": "Caps",
         "orientation": "v",
         "showlegend": true,
         "textposition": "outside",
         "texttemplate": "%{y}",
         "type": "bar",
         "x": [
          "Dewasa",
          "Lansia",
          "Manula",
          "Remaja"
         ],
         "xaxis": "x",
         "y": [
          935,
          294,
          7,
          281
         ],
         "yaxis": "y"
        },
        {
         "alignmentgroup": "True",
         "hovertemplate": "Sub Category=Fenders<br>Age_Segmentation=%{x}<br>Count=%{y}<extra></extra>",
         "legendgroup": "Fenders",
         "marker": {
          "color": "#FF97FF",
          "pattern": {
           "shape": ""
          }
         },
         "name": "Fenders",
         "offsetgroup": "Fenders",
         "orientation": "v",
         "showlegend": true,
         "textposition": "outside",
         "texttemplate": "%{y}",
         "type": "bar",
         "x": [
          "Dewasa",
          "Lansia",
          "Manula",
          "Remaja"
         ],
         "xaxis": "x",
         "y": [
          471,
          180,
          6,
          105
         ],
         "yaxis": "y"
        },
        {
         "alignmentgroup": "True",
         "hovertemplate": "Sub Category=Cleaners<br>Age_Segmentation=%{x}<br>Count=%{y}<extra></extra>",
         "legendgroup": "Cleaners",
         "marker": {
          "color": "#FECB52",
          "pattern": {
           "shape": ""
          }
         },
         "name": "Cleaners",
         "offsetgroup": "Cleaners",
         "orientation": "v",
         "showlegend": true,
         "textposition": "outside",
         "texttemplate": "%{y}",
         "type": "bar",
         "x": [
          "Dewasa",
          "Lansia",
          "Manula",
          "Remaja"
         ],
         "xaxis": "x",
         "y": [
          333,
          113,
          6,
          93
         ],
         "yaxis": "y"
        },
        {
         "alignmentgroup": "True",
         "hovertemplate": "Sub Category=Shorts<br>Age_Segmentation=%{x}<br>Count=%{y}<extra></extra>",
         "legendgroup": "Shorts",
         "marker": {
          "color": "#636efa",
          "pattern": {
           "shape": ""
          }
         },
         "name": "Shorts",
         "offsetgroup": "Shorts",
         "orientation": "v",
         "showlegend": true,
         "textposition": "outside",
         "texttemplate": "%{y}",
         "type": "bar",
         "x": [
          "Dewasa",
          "Lansia",
          "Manula",
          "Remaja"
         ],
         "xaxis": "x",
         "y": [
          319,
          131,
          3,
          113
         ],
         "yaxis": "y"
        },
        {
         "alignmentgroup": "True",
         "hovertemplate": "Sub Category=Gloves<br>Age_Segmentation=%{x}<br>Count=%{y}<extra></extra>",
         "legendgroup": "Gloves",
         "marker": {
          "color": "#EF553B",
          "pattern": {
           "shape": ""
          }
         },
         "name": "Gloves",
         "offsetgroup": "Gloves",
         "orientation": "v",
         "showlegend": true,
         "textposition": "outside",
         "texttemplate": "%{y}",
         "type": "bar",
         "x": [
          "Dewasa",
          "Lansia",
          "Manula",
          "Remaja"
         ],
         "xaxis": "x",
         "y": [
          294,
          105,
          3,
          78
         ],
         "yaxis": "y"
        },
        {
         "alignmentgroup": "True",
         "hovertemplate": "Sub Category=Hydration Packs<br>Age_Segmentation=%{x}<br>Count=%{y}<extra></extra>",
         "legendgroup": "Hydration Packs",
         "marker": {
          "color": "#00cc96",
          "pattern": {
           "shape": ""
          }
         },
         "name": "Hydration Packs",
         "offsetgroup": "Hydration Packs",
         "orientation": "v",
         "showlegend": true,
         "textposition": "outside",
         "texttemplate": "%{y}",
         "type": "bar",
         "x": [
          "Dewasa",
          "Lansia",
          "Manula",
          "Remaja"
         ],
         "xaxis": "x",
         "y": [
          244,
          84,
          3,
          65
         ],
         "yaxis": "y"
        },
        {
         "alignmentgroup": "True",
         "hovertemplate": "Sub Category=Socks<br>Age_Segmentation=%{x}<br>Count=%{y}<extra></extra>",
         "legendgroup": "Socks",
         "marker": {
          "color": "#ab63fa",
          "pattern": {
           "shape": ""
          }
         },
         "name": "Socks",
         "offsetgroup": "Socks",
         "orientation": "v",
         "showlegend": true,
         "textposition": "outside",
         "texttemplate": "%{y}",
         "type": "bar",
         "x": [
          "Dewasa",
          "Lansia",
          "Manula",
          "Remaja"
         ],
         "xaxis": "x",
         "y": [
          225,
          73,
          4,
          62
         ],
         "yaxis": "y"
        },
        {
         "alignmentgroup": "True",
         "hovertemplate": "Sub Category=Vests<br>Age_Segmentation=%{x}<br>Count=%{y}<extra></extra>",
         "legendgroup": "Vests",
         "marker": {
          "color": "#FFA15A",
          "pattern": {
           "shape": ""
          }
         },
         "name": "Vests",
         "offsetgroup": "Vests",
         "orientation": "v",
         "showlegend": true,
         "textposition": "outside",
         "texttemplate": "%{y}",
         "type": "bar",
         "x": [
          "Dewasa",
          "Lansia",
          "Manula",
          "Remaja"
         ],
         "xaxis": "x",
         "y": [
          190,
          61,
          7,
          54
         ],
         "yaxis": "y"
        },
        {
         "alignmentgroup": "True",
         "hovertemplate": "Sub Category=Bike Stands<br>Age_Segmentation=%{x}<br>Count=%{y}<extra></extra>",
         "legendgroup": "Bike Stands",
         "marker": {
          "color": "#19d3f3",
          "pattern": {
           "shape": ""
          }
         },
         "name": "Bike Stands",
         "offsetgroup": "Bike Stands",
         "orientation": "v",
         "showlegend": true,
         "textposition": "outside",
         "texttemplate": "%{y}",
         "type": "bar",
         "x": [
          "Dewasa",
          "Lansia",
          "Manula",
          "Remaja"
         ],
         "xaxis": "x",
         "y": [
          73,
          33,
          2,
          37
         ],
         "yaxis": "y"
        },
        {
         "alignmentgroup": "True",
         "hovertemplate": "Sub Category=Bike Racks<br>Age_Segmentation=%{x}<br>Count=%{y}<extra></extra>",
         "legendgroup": "Bike Racks",
         "marker": {
          "color": "#FF6692",
          "pattern": {
           "shape": ""
          }
         },
         "name": "Bike Racks",
         "offsetgroup": "Bike Racks",
         "orientation": "v",
         "showlegend": true,
         "textposition": "outside",
         "texttemplate": "%{y}",
         "type": "bar",
         "x": [
          "Dewasa",
          "Lansia",
          "Manula",
          "Remaja"
         ],
         "xaxis": "x",
         "y": [
          66,
          25,
          2,
          10
         ],
         "yaxis": "y"
        }
       ],
       "layout": {
        "barmode": "group",
        "legend": {
         "title": {
          "text": "Sub Category"
         },
         "tracegroupgap": 0
        },
        "template": {
         "data": {
          "bar": [
           {
            "error_x": {
             "color": "#2a3f5f"
            },
            "error_y": {
             "color": "#2a3f5f"
            },
            "marker": {
             "line": {
              "color": "#E5ECF6",
              "width": 0.5
             },
             "pattern": {
              "fillmode": "overlay",
              "size": 10,
              "solidity": 0.2
             }
            },
            "type": "bar"
           }
          ],
          "barpolar": [
           {
            "marker": {
             "line": {
              "color": "#E5ECF6",
              "width": 0.5
             },
             "pattern": {
              "fillmode": "overlay",
              "size": 10,
              "solidity": 0.2
             }
            },
            "type": "barpolar"
           }
          ],
          "carpet": [
           {
            "aaxis": {
             "endlinecolor": "#2a3f5f",
             "gridcolor": "white",
             "linecolor": "white",
             "minorgridcolor": "white",
             "startlinecolor": "#2a3f5f"
            },
            "baxis": {
             "endlinecolor": "#2a3f5f",
             "gridcolor": "white",
             "linecolor": "white",
             "minorgridcolor": "white",
             "startlinecolor": "#2a3f5f"
            },
            "type": "carpet"
           }
          ],
          "choropleth": [
           {
            "colorbar": {
             "outlinewidth": 0,
             "ticks": ""
            },
            "type": "choropleth"
           }
          ],
          "contour": [
           {
            "colorbar": {
             "outlinewidth": 0,
             "ticks": ""
            },
            "colorscale": [
             [
              0,
              "#0d0887"
             ],
             [
              0.1111111111111111,
              "#46039f"
             ],
             [
              0.2222222222222222,
              "#7201a8"
             ],
             [
              0.3333333333333333,
              "#9c179e"
             ],
             [
              0.4444444444444444,
              "#bd3786"
             ],
             [
              0.5555555555555556,
              "#d8576b"
             ],
             [
              0.6666666666666666,
              "#ed7953"
             ],
             [
              0.7777777777777778,
              "#fb9f3a"
             ],
             [
              0.8888888888888888,
              "#fdca26"
             ],
             [
              1,
              "#f0f921"
             ]
            ],
            "type": "contour"
           }
          ],
          "contourcarpet": [
           {
            "colorbar": {
             "outlinewidth": 0,
             "ticks": ""
            },
            "type": "contourcarpet"
           }
          ],
          "heatmap": [
           {
            "colorbar": {
             "outlinewidth": 0,
             "ticks": ""
            },
            "colorscale": [
             [
              0,
              "#0d0887"
             ],
             [
              0.1111111111111111,
              "#46039f"
             ],
             [
              0.2222222222222222,
              "#7201a8"
             ],
             [
              0.3333333333333333,
              "#9c179e"
             ],
             [
              0.4444444444444444,
              "#bd3786"
             ],
             [
              0.5555555555555556,
              "#d8576b"
             ],
             [
              0.6666666666666666,
              "#ed7953"
             ],
             [
              0.7777777777777778,
              "#fb9f3a"
             ],
             [
              0.8888888888888888,
              "#fdca26"
             ],
             [
              1,
              "#f0f921"
             ]
            ],
            "type": "heatmap"
           }
          ],
          "heatmapgl": [
           {
            "colorbar": {
             "outlinewidth": 0,
             "ticks": ""
            },
            "colorscale": [
             [
              0,
              "#0d0887"
             ],
             [
              0.1111111111111111,
              "#46039f"
             ],
             [
              0.2222222222222222,
              "#7201a8"
             ],
             [
              0.3333333333333333,
              "#9c179e"
             ],
             [
              0.4444444444444444,
              "#bd3786"
             ],
             [
              0.5555555555555556,
              "#d8576b"
             ],
             [
              0.6666666666666666,
              "#ed7953"
             ],
             [
              0.7777777777777778,
              "#fb9f3a"
             ],
             [
              0.8888888888888888,
              "#fdca26"
             ],
             [
              1,
              "#f0f921"
             ]
            ],
            "type": "heatmapgl"
           }
          ],
          "histogram": [
           {
            "marker": {
             "pattern": {
              "fillmode": "overlay",
              "size": 10,
              "solidity": 0.2
             }
            },
            "type": "histogram"
           }
          ],
          "histogram2d": [
           {
            "colorbar": {
             "outlinewidth": 0,
             "ticks": ""
            },
            "colorscale": [
             [
              0,
              "#0d0887"
             ],
             [
              0.1111111111111111,
              "#46039f"
             ],
             [
              0.2222222222222222,
              "#7201a8"
             ],
             [
              0.3333333333333333,
              "#9c179e"
             ],
             [
              0.4444444444444444,
              "#bd3786"
             ],
             [
              0.5555555555555556,
              "#d8576b"
             ],
             [
              0.6666666666666666,
              "#ed7953"
             ],
             [
              0.7777777777777778,
              "#fb9f3a"
             ],
             [
              0.8888888888888888,
              "#fdca26"
             ],
             [
              1,
              "#f0f921"
             ]
            ],
            "type": "histogram2d"
           }
          ],
          "histogram2dcontour": [
           {
            "colorbar": {
             "outlinewidth": 0,
             "ticks": ""
            },
            "colorscale": [
             [
              0,
              "#0d0887"
             ],
             [
              0.1111111111111111,
              "#46039f"
             ],
             [
              0.2222222222222222,
              "#7201a8"
             ],
             [
              0.3333333333333333,
              "#9c179e"
             ],
             [
              0.4444444444444444,
              "#bd3786"
             ],
             [
              0.5555555555555556,
              "#d8576b"
             ],
             [
              0.6666666666666666,
              "#ed7953"
             ],
             [
              0.7777777777777778,
              "#fb9f3a"
             ],
             [
              0.8888888888888888,
              "#fdca26"
             ],
             [
              1,
              "#f0f921"
             ]
            ],
            "type": "histogram2dcontour"
           }
          ],
          "mesh3d": [
           {
            "colorbar": {
             "outlinewidth": 0,
             "ticks": ""
            },
            "type": "mesh3d"
           }
          ],
          "parcoords": [
           {
            "line": {
             "colorbar": {
              "outlinewidth": 0,
              "ticks": ""
             }
            },
            "type": "parcoords"
           }
          ],
          "pie": [
           {
            "automargin": true,
            "type": "pie"
           }
          ],
          "scatter": [
           {
            "fillpattern": {
             "fillmode": "overlay",
             "size": 10,
             "solidity": 0.2
            },
            "type": "scatter"
           }
          ],
          "scatter3d": [
           {
            "line": {
             "colorbar": {
              "outlinewidth": 0,
              "ticks": ""
             }
            },
            "marker": {
             "colorbar": {
              "outlinewidth": 0,
              "ticks": ""
             }
            },
            "type": "scatter3d"
           }
          ],
          "scattercarpet": [
           {
            "marker": {
             "colorbar": {
              "outlinewidth": 0,
              "ticks": ""
             }
            },
            "type": "scattercarpet"
           }
          ],
          "scattergeo": [
           {
            "marker": {
             "colorbar": {
              "outlinewidth": 0,
              "ticks": ""
             }
            },
            "type": "scattergeo"
           }
          ],
          "scattergl": [
           {
            "marker": {
             "colorbar": {
              "outlinewidth": 0,
              "ticks": ""
             }
            },
            "type": "scattergl"
           }
          ],
          "scattermapbox": [
           {
            "marker": {
             "colorbar": {
              "outlinewidth": 0,
              "ticks": ""
             }
            },
            "type": "scattermapbox"
           }
          ],
          "scatterpolar": [
           {
            "marker": {
             "colorbar": {
              "outlinewidth": 0,
              "ticks": ""
             }
            },
            "type": "scatterpolar"
           }
          ],
          "scatterpolargl": [
           {
            "marker": {
             "colorbar": {
              "outlinewidth": 0,
              "ticks": ""
             }
            },
            "type": "scatterpolargl"
           }
          ],
          "scatterternary": [
           {
            "marker": {
             "colorbar": {
              "outlinewidth": 0,
              "ticks": ""
             }
            },
            "type": "scatterternary"
           }
          ],
          "surface": [
           {
            "colorbar": {
             "outlinewidth": 0,
             "ticks": ""
            },
            "colorscale": [
             [
              0,
              "#0d0887"
             ],
             [
              0.1111111111111111,
              "#46039f"
             ],
             [
              0.2222222222222222,
              "#7201a8"
             ],
             [
              0.3333333333333333,
              "#9c179e"
             ],
             [
              0.4444444444444444,
              "#bd3786"
             ],
             [
              0.5555555555555556,
              "#d8576b"
             ],
             [
              0.6666666666666666,
              "#ed7953"
             ],
             [
              0.7777777777777778,
              "#fb9f3a"
             ],
             [
              0.8888888888888888,
              "#fdca26"
             ],
             [
              1,
              "#f0f921"
             ]
            ],
            "type": "surface"
           }
          ],
          "table": [
           {
            "cells": {
             "fill": {
              "color": "#EBF0F8"
             },
             "line": {
              "color": "white"
             }
            },
            "header": {
             "fill": {
              "color": "#C8D4E3"
             },
             "line": {
              "color": "white"
             }
            },
            "type": "table"
           }
          ]
         },
         "layout": {
          "annotationdefaults": {
           "arrowcolor": "#2a3f5f",
           "arrowhead": 0,
           "arrowwidth": 1
          },
          "autotypenumbers": "strict",
          "coloraxis": {
           "colorbar": {
            "outlinewidth": 0,
            "ticks": ""
           }
          },
          "colorscale": {
           "diverging": [
            [
             0,
             "#8e0152"
            ],
            [
             0.1,
             "#c51b7d"
            ],
            [
             0.2,
             "#de77ae"
            ],
            [
             0.3,
             "#f1b6da"
            ],
            [
             0.4,
             "#fde0ef"
            ],
            [
             0.5,
             "#f7f7f7"
            ],
            [
             0.6,
             "#e6f5d0"
            ],
            [
             0.7,
             "#b8e186"
            ],
            [
             0.8,
             "#7fbc41"
            ],
            [
             0.9,
             "#4d9221"
            ],
            [
             1,
             "#276419"
            ]
           ],
           "sequential": [
            [
             0,
             "#0d0887"
            ],
            [
             0.1111111111111111,
             "#46039f"
            ],
            [
             0.2222222222222222,
             "#7201a8"
            ],
            [
             0.3333333333333333,
             "#9c179e"
            ],
            [
             0.4444444444444444,
             "#bd3786"
            ],
            [
             0.5555555555555556,
             "#d8576b"
            ],
            [
             0.6666666666666666,
             "#ed7953"
            ],
            [
             0.7777777777777778,
             "#fb9f3a"
            ],
            [
             0.8888888888888888,
             "#fdca26"
            ],
            [
             1,
             "#f0f921"
            ]
           ],
           "sequentialminus": [
            [
             0,
             "#0d0887"
            ],
            [
             0.1111111111111111,
             "#46039f"
            ],
            [
             0.2222222222222222,
             "#7201a8"
            ],
            [
             0.3333333333333333,
             "#9c179e"
            ],
            [
             0.4444444444444444,
             "#bd3786"
            ],
            [
             0.5555555555555556,
             "#d8576b"
            ],
            [
             0.6666666666666666,
             "#ed7953"
            ],
            [
             0.7777777777777778,
             "#fb9f3a"
            ],
            [
             0.8888888888888888,
             "#fdca26"
            ],
            [
             1,
             "#f0f921"
            ]
           ]
          },
          "colorway": [
           "#636efa",
           "#EF553B",
           "#00cc96",
           "#ab63fa",
           "#FFA15A",
           "#19d3f3",
           "#FF6692",
           "#B6E880",
           "#FF97FF",
           "#FECB52"
          ],
          "font": {
           "color": "#2a3f5f"
          },
          "geo": {
           "bgcolor": "white",
           "lakecolor": "white",
           "landcolor": "#E5ECF6",
           "showlakes": true,
           "showland": true,
           "subunitcolor": "white"
          },
          "hoverlabel": {
           "align": "left"
          },
          "hovermode": "closest",
          "mapbox": {
           "style": "light"
          },
          "paper_bgcolor": "white",
          "plot_bgcolor": "#E5ECF6",
          "polar": {
           "angularaxis": {
            "gridcolor": "white",
            "linecolor": "white",
            "ticks": ""
           },
           "bgcolor": "#E5ECF6",
           "radialaxis": {
            "gridcolor": "white",
            "linecolor": "white",
            "ticks": ""
           }
          },
          "scene": {
           "xaxis": {
            "backgroundcolor": "#E5ECF6",
            "gridcolor": "white",
            "gridwidth": 2,
            "linecolor": "white",
            "showbackground": true,
            "ticks": "",
            "zerolinecolor": "white"
           },
           "yaxis": {
            "backgroundcolor": "#E5ECF6",
            "gridcolor": "white",
            "gridwidth": 2,
            "linecolor": "white",
            "showbackground": true,
            "ticks": "",
            "zerolinecolor": "white"
           },
           "zaxis": {
            "backgroundcolor": "#E5ECF6",
            "gridcolor": "white",
            "gridwidth": 2,
            "linecolor": "white",
            "showbackground": true,
            "ticks": "",
            "zerolinecolor": "white"
           }
          },
          "shapedefaults": {
           "line": {
            "color": "#2a3f5f"
           }
          },
          "ternary": {
           "aaxis": {
            "gridcolor": "white",
            "linecolor": "white",
            "ticks": ""
           },
           "baxis": {
            "gridcolor": "white",
            "linecolor": "white",
            "ticks": ""
           },
           "bgcolor": "#E5ECF6",
           "caxis": {
            "gridcolor": "white",
            "linecolor": "white",
            "ticks": ""
           }
          },
          "title": {
           "x": 0.05
          },
          "xaxis": {
           "automargin": true,
           "gridcolor": "white",
           "linecolor": "white",
           "ticks": "",
           "title": {
            "standoff": 15
           },
           "zerolinecolor": "white",
           "zerolinewidth": 2
          },
          "yaxis": {
           "automargin": true,
           "gridcolor": "white",
           "linecolor": "white",
           "ticks": "",
           "title": {
            "standoff": 15
           },
           "zerolinecolor": "white",
           "zerolinewidth": 2
          }
         }
        },
        "title": {
         "text": "Top 3 Sub Categories Purchased by Age_Segmentation"
        },
        "xaxis": {
         "anchor": "y",
         "categoryorder": "total descending",
         "domain": [
          0,
          1
         ],
         "title": {
          "text": "Age_Segmentation"
         }
        },
        "yaxis": {
         "anchor": "x",
         "domain": [
          0,
          1
         ],
         "title": {
          "text": "Count"
         }
        }
       }
      },
      "text/html": [
       "<div>                            <div id=\"94e01682-30e0-4a77-bee5-b25301410b7d\" class=\"plotly-graph-div\" style=\"height:525px; width:100%;\"></div>            <script type=\"text/javascript\">                require([\"plotly\"], function(Plotly) {                    window.PLOTLYENV=window.PLOTLYENV || {};                                    if (document.getElementById(\"94e01682-30e0-4a77-bee5-b25301410b7d\")) {                    Plotly.newPlot(                        \"94e01682-30e0-4a77-bee5-b25301410b7d\",                        [{\"alignmentgroup\":\"True\",\"hovertemplate\":\"Sub Category=Tires and Tubes\\u003cbr\\u003eAge_Segmentation=%{x}\\u003cbr\\u003eCount=%{y}\\u003cextra\\u003e\\u003c\\u002fextra\\u003e\",\"legendgroup\":\"Tires and Tubes\",\"marker\":{\"color\":\"#636efa\",\"pattern\":{\"shape\":\"\"}},\"name\":\"Tires and Tubes\",\"offsetgroup\":\"Tires and Tubes\",\"orientation\":\"v\",\"showlegend\":true,\"textposition\":\"outside\",\"x\":[\"Dewasa\",\"Lansia\",\"Manula\",\"Remaja\"],\"xaxis\":\"x\",\"y\":[6162,2463,117,2370],\"yaxis\":\"y\",\"type\":\"bar\",\"texttemplate\":\"%{y}\"},{\"alignmentgroup\":\"True\",\"hovertemplate\":\"Sub Category=Bottles and Cages\\u003cbr\\u003eAge_Segmentation=%{x}\\u003cbr\\u003eCount=%{y}\\u003cextra\\u003e\\u003c\\u002fextra\\u003e\",\"legendgroup\":\"Bottles and Cages\",\"marker\":{\"color\":\"#EF553B\",\"pattern\":{\"shape\":\"\"}},\"name\":\"Bottles and Cages\",\"offsetgroup\":\"Bottles and Cages\",\"orientation\":\"v\",\"showlegend\":true,\"textposition\":\"outside\",\"x\":[\"Dewasa\",\"Lansia\",\"Manula\",\"Remaja\"],\"xaxis\":\"x\",\"y\":[3284,1119,16,876],\"yaxis\":\"y\",\"type\":\"bar\",\"texttemplate\":\"%{y}\"},{\"alignmentgroup\":\"True\",\"hovertemplate\":\"Sub Category=Helmets\\u003cbr\\u003eAge_Segmentation=%{x}\\u003cbr\\u003eCount=%{y}\\u003cextra\\u003e\\u003c\\u002fextra\\u003e\",\"legendgroup\":\"Helmets\",\"marker\":{\"color\":\"#00cc96\",\"pattern\":{\"shape\":\"\"}},\"name\":\"Helmets\",\"offsetgroup\":\"Helmets\",\"orientation\":\"v\",\"showlegend\":true,\"textposition\":\"outside\",\"x\":[\"Dewasa\",\"Lansia\",\"Manula\",\"Remaja\"],\"xaxis\":\"x\",\"y\":[2589,857,25,705],\"yaxis\":\"y\",\"type\":\"bar\",\"texttemplate\":\"%{y}\"},{\"alignmentgroup\":\"True\",\"hovertemplate\":\"Sub Category=Road Bikes\\u003cbr\\u003eAge_Segmentation=%{x}\\u003cbr\\u003eCount=%{y}\\u003cextra\\u003e\\u003c\\u002fextra\\u003e\",\"legendgroup\":\"Road Bikes\",\"marker\":{\"color\":\"#ab63fa\",\"pattern\":{\"shape\":\"\"}},\"name\":\"Road Bikes\",\"offsetgroup\":\"Road Bikes\",\"orientation\":\"v\",\"showlegend\":true,\"textposition\":\"outside\",\"x\":[\"Dewasa\",\"Lansia\",\"Remaja\"],\"xaxis\":\"x\",\"y\":[2213,410,399],\"yaxis\":\"y\",\"type\":\"bar\",\"texttemplate\":\"%{y}\"},{\"alignmentgroup\":\"True\",\"hovertemplate\":\"Sub Category=Mountain Bikes\\u003cbr\\u003eAge_Segmentation=%{x}\\u003cbr\\u003eCount=%{y}\\u003cextra\\u003e\\u003c\\u002fextra\\u003e\",\"legendgroup\":\"Mountain Bikes\",\"marker\":{\"color\":\"#FFA15A\",\"pattern\":{\"shape\":\"\"}},\"name\":\"Mountain Bikes\",\"offsetgroup\":\"Mountain Bikes\",\"orientation\":\"v\",\"showlegend\":true,\"textposition\":\"outside\",\"x\":[\"Dewasa\",\"Lansia\",\"Manula\",\"Remaja\"],\"xaxis\":\"x\",\"y\":[1875,506,5,351],\"yaxis\":\"y\",\"type\":\"bar\",\"texttemplate\":\"%{y}\"},{\"alignmentgroup\":\"True\",\"hovertemplate\":\"Sub Category=Jerseys\\u003cbr\\u003eAge_Segmentation=%{x}\\u003cbr\\u003eCount=%{y}\\u003cextra\\u003e\\u003c\\u002fextra\\u003e\",\"legendgroup\":\"Jerseys\",\"marker\":{\"color\":\"#19d3f3\",\"pattern\":{\"shape\":\"\"}},\"name\":\"Jerseys\",\"offsetgroup\":\"Jerseys\",\"orientation\":\"v\",\"showlegend\":true,\"textposition\":\"outside\",\"x\":[\"Dewasa\",\"Lansia\",\"Manula\",\"Remaja\"],\"xaxis\":\"x\",\"y\":[1248,399,10,343],\"yaxis\":\"y\",\"type\":\"bar\",\"texttemplate\":\"%{y}\"},{\"alignmentgroup\":\"True\",\"hovertemplate\":\"Sub Category=Touring Bikes\\u003cbr\\u003eAge_Segmentation=%{x}\\u003cbr\\u003eCount=%{y}\\u003cextra\\u003e\\u003c\\u002fextra\\u003e\",\"legendgroup\":\"Touring Bikes\",\"marker\":{\"color\":\"#FF6692\",\"pattern\":{\"shape\":\"\"}},\"name\":\"Touring Bikes\",\"offsetgroup\":\"Touring Bikes\",\"orientation\":\"v\",\"showlegend\":true,\"textposition\":\"outside\",\"x\":[\"Dewasa\",\"Lansia\",\"Manula\",\"Remaja\"],\"xaxis\":\"x\",\"y\":[993,205,2,134],\"yaxis\":\"y\",\"type\":\"bar\",\"texttemplate\":\"%{y}\"},{\"alignmentgroup\":\"True\",\"hovertemplate\":\"Sub Category=Caps\\u003cbr\\u003eAge_Segmentation=%{x}\\u003cbr\\u003eCount=%{y}\\u003cextra\\u003e\\u003c\\u002fextra\\u003e\",\"legendgroup\":\"Caps\",\"marker\":{\"color\":\"#B6E880\",\"pattern\":{\"shape\":\"\"}},\"name\":\"Caps\",\"offsetgroup\":\"Caps\",\"orientation\":\"v\",\"showlegend\":true,\"textposition\":\"outside\",\"x\":[\"Dewasa\",\"Lansia\",\"Manula\",\"Remaja\"],\"xaxis\":\"x\",\"y\":[935,294,7,281],\"yaxis\":\"y\",\"type\":\"bar\",\"texttemplate\":\"%{y}\"},{\"alignmentgroup\":\"True\",\"hovertemplate\":\"Sub Category=Fenders\\u003cbr\\u003eAge_Segmentation=%{x}\\u003cbr\\u003eCount=%{y}\\u003cextra\\u003e\\u003c\\u002fextra\\u003e\",\"legendgroup\":\"Fenders\",\"marker\":{\"color\":\"#FF97FF\",\"pattern\":{\"shape\":\"\"}},\"name\":\"Fenders\",\"offsetgroup\":\"Fenders\",\"orientation\":\"v\",\"showlegend\":true,\"textposition\":\"outside\",\"x\":[\"Dewasa\",\"Lansia\",\"Manula\",\"Remaja\"],\"xaxis\":\"x\",\"y\":[471,180,6,105],\"yaxis\":\"y\",\"type\":\"bar\",\"texttemplate\":\"%{y}\"},{\"alignmentgroup\":\"True\",\"hovertemplate\":\"Sub Category=Cleaners\\u003cbr\\u003eAge_Segmentation=%{x}\\u003cbr\\u003eCount=%{y}\\u003cextra\\u003e\\u003c\\u002fextra\\u003e\",\"legendgroup\":\"Cleaners\",\"marker\":{\"color\":\"#FECB52\",\"pattern\":{\"shape\":\"\"}},\"name\":\"Cleaners\",\"offsetgroup\":\"Cleaners\",\"orientation\":\"v\",\"showlegend\":true,\"textposition\":\"outside\",\"x\":[\"Dewasa\",\"Lansia\",\"Manula\",\"Remaja\"],\"xaxis\":\"x\",\"y\":[333,113,6,93],\"yaxis\":\"y\",\"type\":\"bar\",\"texttemplate\":\"%{y}\"},{\"alignmentgroup\":\"True\",\"hovertemplate\":\"Sub Category=Shorts\\u003cbr\\u003eAge_Segmentation=%{x}\\u003cbr\\u003eCount=%{y}\\u003cextra\\u003e\\u003c\\u002fextra\\u003e\",\"legendgroup\":\"Shorts\",\"marker\":{\"color\":\"#636efa\",\"pattern\":{\"shape\":\"\"}},\"name\":\"Shorts\",\"offsetgroup\":\"Shorts\",\"orientation\":\"v\",\"showlegend\":true,\"textposition\":\"outside\",\"x\":[\"Dewasa\",\"Lansia\",\"Manula\",\"Remaja\"],\"xaxis\":\"x\",\"y\":[319,131,3,113],\"yaxis\":\"y\",\"type\":\"bar\",\"texttemplate\":\"%{y}\"},{\"alignmentgroup\":\"True\",\"hovertemplate\":\"Sub Category=Gloves\\u003cbr\\u003eAge_Segmentation=%{x}\\u003cbr\\u003eCount=%{y}\\u003cextra\\u003e\\u003c\\u002fextra\\u003e\",\"legendgroup\":\"Gloves\",\"marker\":{\"color\":\"#EF553B\",\"pattern\":{\"shape\":\"\"}},\"name\":\"Gloves\",\"offsetgroup\":\"Gloves\",\"orientation\":\"v\",\"showlegend\":true,\"textposition\":\"outside\",\"x\":[\"Dewasa\",\"Lansia\",\"Manula\",\"Remaja\"],\"xaxis\":\"x\",\"y\":[294,105,3,78],\"yaxis\":\"y\",\"type\":\"bar\",\"texttemplate\":\"%{y}\"},{\"alignmentgroup\":\"True\",\"hovertemplate\":\"Sub Category=Hydration Packs\\u003cbr\\u003eAge_Segmentation=%{x}\\u003cbr\\u003eCount=%{y}\\u003cextra\\u003e\\u003c\\u002fextra\\u003e\",\"legendgroup\":\"Hydration Packs\",\"marker\":{\"color\":\"#00cc96\",\"pattern\":{\"shape\":\"\"}},\"name\":\"Hydration Packs\",\"offsetgroup\":\"Hydration Packs\",\"orientation\":\"v\",\"showlegend\":true,\"textposition\":\"outside\",\"x\":[\"Dewasa\",\"Lansia\",\"Manula\",\"Remaja\"],\"xaxis\":\"x\",\"y\":[244,84,3,65],\"yaxis\":\"y\",\"type\":\"bar\",\"texttemplate\":\"%{y}\"},{\"alignmentgroup\":\"True\",\"hovertemplate\":\"Sub Category=Socks\\u003cbr\\u003eAge_Segmentation=%{x}\\u003cbr\\u003eCount=%{y}\\u003cextra\\u003e\\u003c\\u002fextra\\u003e\",\"legendgroup\":\"Socks\",\"marker\":{\"color\":\"#ab63fa\",\"pattern\":{\"shape\":\"\"}},\"name\":\"Socks\",\"offsetgroup\":\"Socks\",\"orientation\":\"v\",\"showlegend\":true,\"textposition\":\"outside\",\"x\":[\"Dewasa\",\"Lansia\",\"Manula\",\"Remaja\"],\"xaxis\":\"x\",\"y\":[225,73,4,62],\"yaxis\":\"y\",\"type\":\"bar\",\"texttemplate\":\"%{y}\"},{\"alignmentgroup\":\"True\",\"hovertemplate\":\"Sub Category=Vests\\u003cbr\\u003eAge_Segmentation=%{x}\\u003cbr\\u003eCount=%{y}\\u003cextra\\u003e\\u003c\\u002fextra\\u003e\",\"legendgroup\":\"Vests\",\"marker\":{\"color\":\"#FFA15A\",\"pattern\":{\"shape\":\"\"}},\"name\":\"Vests\",\"offsetgroup\":\"Vests\",\"orientation\":\"v\",\"showlegend\":true,\"textposition\":\"outside\",\"x\":[\"Dewasa\",\"Lansia\",\"Manula\",\"Remaja\"],\"xaxis\":\"x\",\"y\":[190,61,7,54],\"yaxis\":\"y\",\"type\":\"bar\",\"texttemplate\":\"%{y}\"},{\"alignmentgroup\":\"True\",\"hovertemplate\":\"Sub Category=Bike Stands\\u003cbr\\u003eAge_Segmentation=%{x}\\u003cbr\\u003eCount=%{y}\\u003cextra\\u003e\\u003c\\u002fextra\\u003e\",\"legendgroup\":\"Bike Stands\",\"marker\":{\"color\":\"#19d3f3\",\"pattern\":{\"shape\":\"\"}},\"name\":\"Bike Stands\",\"offsetgroup\":\"Bike Stands\",\"orientation\":\"v\",\"showlegend\":true,\"textposition\":\"outside\",\"x\":[\"Dewasa\",\"Lansia\",\"Manula\",\"Remaja\"],\"xaxis\":\"x\",\"y\":[73,33,2,37],\"yaxis\":\"y\",\"type\":\"bar\",\"texttemplate\":\"%{y}\"},{\"alignmentgroup\":\"True\",\"hovertemplate\":\"Sub Category=Bike Racks\\u003cbr\\u003eAge_Segmentation=%{x}\\u003cbr\\u003eCount=%{y}\\u003cextra\\u003e\\u003c\\u002fextra\\u003e\",\"legendgroup\":\"Bike Racks\",\"marker\":{\"color\":\"#FF6692\",\"pattern\":{\"shape\":\"\"}},\"name\":\"Bike Racks\",\"offsetgroup\":\"Bike Racks\",\"orientation\":\"v\",\"showlegend\":true,\"textposition\":\"outside\",\"x\":[\"Dewasa\",\"Lansia\",\"Manula\",\"Remaja\"],\"xaxis\":\"x\",\"y\":[66,25,2,10],\"yaxis\":\"y\",\"type\":\"bar\",\"texttemplate\":\"%{y}\"}],                        {\"template\":{\"data\":{\"histogram2dcontour\":[{\"type\":\"histogram2dcontour\",\"colorbar\":{\"outlinewidth\":0,\"ticks\":\"\"},\"colorscale\":[[0.0,\"#0d0887\"],[0.1111111111111111,\"#46039f\"],[0.2222222222222222,\"#7201a8\"],[0.3333333333333333,\"#9c179e\"],[0.4444444444444444,\"#bd3786\"],[0.5555555555555556,\"#d8576b\"],[0.6666666666666666,\"#ed7953\"],[0.7777777777777778,\"#fb9f3a\"],[0.8888888888888888,\"#fdca26\"],[1.0,\"#f0f921\"]]}],\"choropleth\":[{\"type\":\"choropleth\",\"colorbar\":{\"outlinewidth\":0,\"ticks\":\"\"}}],\"histogram2d\":[{\"type\":\"histogram2d\",\"colorbar\":{\"outlinewidth\":0,\"ticks\":\"\"},\"colorscale\":[[0.0,\"#0d0887\"],[0.1111111111111111,\"#46039f\"],[0.2222222222222222,\"#7201a8\"],[0.3333333333333333,\"#9c179e\"],[0.4444444444444444,\"#bd3786\"],[0.5555555555555556,\"#d8576b\"],[0.6666666666666666,\"#ed7953\"],[0.7777777777777778,\"#fb9f3a\"],[0.8888888888888888,\"#fdca26\"],[1.0,\"#f0f921\"]]}],\"heatmap\":[{\"type\":\"heatmap\",\"colorbar\":{\"outlinewidth\":0,\"ticks\":\"\"},\"colorscale\":[[0.0,\"#0d0887\"],[0.1111111111111111,\"#46039f\"],[0.2222222222222222,\"#7201a8\"],[0.3333333333333333,\"#9c179e\"],[0.4444444444444444,\"#bd3786\"],[0.5555555555555556,\"#d8576b\"],[0.6666666666666666,\"#ed7953\"],[0.7777777777777778,\"#fb9f3a\"],[0.8888888888888888,\"#fdca26\"],[1.0,\"#f0f921\"]]}],\"heatmapgl\":[{\"type\":\"heatmapgl\",\"colorbar\":{\"outlinewidth\":0,\"ticks\":\"\"},\"colorscale\":[[0.0,\"#0d0887\"],[0.1111111111111111,\"#46039f\"],[0.2222222222222222,\"#7201a8\"],[0.3333333333333333,\"#9c179e\"],[0.4444444444444444,\"#bd3786\"],[0.5555555555555556,\"#d8576b\"],[0.6666666666666666,\"#ed7953\"],[0.7777777777777778,\"#fb9f3a\"],[0.8888888888888888,\"#fdca26\"],[1.0,\"#f0f921\"]]}],\"contourcarpet\":[{\"type\":\"contourcarpet\",\"colorbar\":{\"outlinewidth\":0,\"ticks\":\"\"}}],\"contour\":[{\"type\":\"contour\",\"colorbar\":{\"outlinewidth\":0,\"ticks\":\"\"},\"colorscale\":[[0.0,\"#0d0887\"],[0.1111111111111111,\"#46039f\"],[0.2222222222222222,\"#7201a8\"],[0.3333333333333333,\"#9c179e\"],[0.4444444444444444,\"#bd3786\"],[0.5555555555555556,\"#d8576b\"],[0.6666666666666666,\"#ed7953\"],[0.7777777777777778,\"#fb9f3a\"],[0.8888888888888888,\"#fdca26\"],[1.0,\"#f0f921\"]]}],\"surface\":[{\"type\":\"surface\",\"colorbar\":{\"outlinewidth\":0,\"ticks\":\"\"},\"colorscale\":[[0.0,\"#0d0887\"],[0.1111111111111111,\"#46039f\"],[0.2222222222222222,\"#7201a8\"],[0.3333333333333333,\"#9c179e\"],[0.4444444444444444,\"#bd3786\"],[0.5555555555555556,\"#d8576b\"],[0.6666666666666666,\"#ed7953\"],[0.7777777777777778,\"#fb9f3a\"],[0.8888888888888888,\"#fdca26\"],[1.0,\"#f0f921\"]]}],\"mesh3d\":[{\"type\":\"mesh3d\",\"colorbar\":{\"outlinewidth\":0,\"ticks\":\"\"}}],\"scatter\":[{\"fillpattern\":{\"fillmode\":\"overlay\",\"size\":10,\"solidity\":0.2},\"type\":\"scatter\"}],\"parcoords\":[{\"type\":\"parcoords\",\"line\":{\"colorbar\":{\"outlinewidth\":0,\"ticks\":\"\"}}}],\"scatterpolargl\":[{\"type\":\"scatterpolargl\",\"marker\":{\"colorbar\":{\"outlinewidth\":0,\"ticks\":\"\"}}}],\"bar\":[{\"error_x\":{\"color\":\"#2a3f5f\"},\"error_y\":{\"color\":\"#2a3f5f\"},\"marker\":{\"line\":{\"color\":\"#E5ECF6\",\"width\":0.5},\"pattern\":{\"fillmode\":\"overlay\",\"size\":10,\"solidity\":0.2}},\"type\":\"bar\"}],\"scattergeo\":[{\"type\":\"scattergeo\",\"marker\":{\"colorbar\":{\"outlinewidth\":0,\"ticks\":\"\"}}}],\"scatterpolar\":[{\"type\":\"scatterpolar\",\"marker\":{\"colorbar\":{\"outlinewidth\":0,\"ticks\":\"\"}}}],\"histogram\":[{\"marker\":{\"pattern\":{\"fillmode\":\"overlay\",\"size\":10,\"solidity\":0.2}},\"type\":\"histogram\"}],\"scattergl\":[{\"type\":\"scattergl\",\"marker\":{\"colorbar\":{\"outlinewidth\":0,\"ticks\":\"\"}}}],\"scatter3d\":[{\"type\":\"scatter3d\",\"line\":{\"colorbar\":{\"outlinewidth\":0,\"ticks\":\"\"}},\"marker\":{\"colorbar\":{\"outlinewidth\":0,\"ticks\":\"\"}}}],\"scattermapbox\":[{\"type\":\"scattermapbox\",\"marker\":{\"colorbar\":{\"outlinewidth\":0,\"ticks\":\"\"}}}],\"scatterternary\":[{\"type\":\"scatterternary\",\"marker\":{\"colorbar\":{\"outlinewidth\":0,\"ticks\":\"\"}}}],\"scattercarpet\":[{\"type\":\"scattercarpet\",\"marker\":{\"colorbar\":{\"outlinewidth\":0,\"ticks\":\"\"}}}],\"carpet\":[{\"aaxis\":{\"endlinecolor\":\"#2a3f5f\",\"gridcolor\":\"white\",\"linecolor\":\"white\",\"minorgridcolor\":\"white\",\"startlinecolor\":\"#2a3f5f\"},\"baxis\":{\"endlinecolor\":\"#2a3f5f\",\"gridcolor\":\"white\",\"linecolor\":\"white\",\"minorgridcolor\":\"white\",\"startlinecolor\":\"#2a3f5f\"},\"type\":\"carpet\"}],\"table\":[{\"cells\":{\"fill\":{\"color\":\"#EBF0F8\"},\"line\":{\"color\":\"white\"}},\"header\":{\"fill\":{\"color\":\"#C8D4E3\"},\"line\":{\"color\":\"white\"}},\"type\":\"table\"}],\"barpolar\":[{\"marker\":{\"line\":{\"color\":\"#E5ECF6\",\"width\":0.5},\"pattern\":{\"fillmode\":\"overlay\",\"size\":10,\"solidity\":0.2}},\"type\":\"barpolar\"}],\"pie\":[{\"automargin\":true,\"type\":\"pie\"}]},\"layout\":{\"autotypenumbers\":\"strict\",\"colorway\":[\"#636efa\",\"#EF553B\",\"#00cc96\",\"#ab63fa\",\"#FFA15A\",\"#19d3f3\",\"#FF6692\",\"#B6E880\",\"#FF97FF\",\"#FECB52\"],\"font\":{\"color\":\"#2a3f5f\"},\"hovermode\":\"closest\",\"hoverlabel\":{\"align\":\"left\"},\"paper_bgcolor\":\"white\",\"plot_bgcolor\":\"#E5ECF6\",\"polar\":{\"bgcolor\":\"#E5ECF6\",\"angularaxis\":{\"gridcolor\":\"white\",\"linecolor\":\"white\",\"ticks\":\"\"},\"radialaxis\":{\"gridcolor\":\"white\",\"linecolor\":\"white\",\"ticks\":\"\"}},\"ternary\":{\"bgcolor\":\"#E5ECF6\",\"aaxis\":{\"gridcolor\":\"white\",\"linecolor\":\"white\",\"ticks\":\"\"},\"baxis\":{\"gridcolor\":\"white\",\"linecolor\":\"white\",\"ticks\":\"\"},\"caxis\":{\"gridcolor\":\"white\",\"linecolor\":\"white\",\"ticks\":\"\"}},\"coloraxis\":{\"colorbar\":{\"outlinewidth\":0,\"ticks\":\"\"}},\"colorscale\":{\"sequential\":[[0.0,\"#0d0887\"],[0.1111111111111111,\"#46039f\"],[0.2222222222222222,\"#7201a8\"],[0.3333333333333333,\"#9c179e\"],[0.4444444444444444,\"#bd3786\"],[0.5555555555555556,\"#d8576b\"],[0.6666666666666666,\"#ed7953\"],[0.7777777777777778,\"#fb9f3a\"],[0.8888888888888888,\"#fdca26\"],[1.0,\"#f0f921\"]],\"sequentialminus\":[[0.0,\"#0d0887\"],[0.1111111111111111,\"#46039f\"],[0.2222222222222222,\"#7201a8\"],[0.3333333333333333,\"#9c179e\"],[0.4444444444444444,\"#bd3786\"],[0.5555555555555556,\"#d8576b\"],[0.6666666666666666,\"#ed7953\"],[0.7777777777777778,\"#fb9f3a\"],[0.8888888888888888,\"#fdca26\"],[1.0,\"#f0f921\"]],\"diverging\":[[0,\"#8e0152\"],[0.1,\"#c51b7d\"],[0.2,\"#de77ae\"],[0.3,\"#f1b6da\"],[0.4,\"#fde0ef\"],[0.5,\"#f7f7f7\"],[0.6,\"#e6f5d0\"],[0.7,\"#b8e186\"],[0.8,\"#7fbc41\"],[0.9,\"#4d9221\"],[1,\"#276419\"]]},\"xaxis\":{\"gridcolor\":\"white\",\"linecolor\":\"white\",\"ticks\":\"\",\"title\":{\"standoff\":15},\"zerolinecolor\":\"white\",\"automargin\":true,\"zerolinewidth\":2},\"yaxis\":{\"gridcolor\":\"white\",\"linecolor\":\"white\",\"ticks\":\"\",\"title\":{\"standoff\":15},\"zerolinecolor\":\"white\",\"automargin\":true,\"zerolinewidth\":2},\"scene\":{\"xaxis\":{\"backgroundcolor\":\"#E5ECF6\",\"gridcolor\":\"white\",\"linecolor\":\"white\",\"showbackground\":true,\"ticks\":\"\",\"zerolinecolor\":\"white\",\"gridwidth\":2},\"yaxis\":{\"backgroundcolor\":\"#E5ECF6\",\"gridcolor\":\"white\",\"linecolor\":\"white\",\"showbackground\":true,\"ticks\":\"\",\"zerolinecolor\":\"white\",\"gridwidth\":2},\"zaxis\":{\"backgroundcolor\":\"#E5ECF6\",\"gridcolor\":\"white\",\"linecolor\":\"white\",\"showbackground\":true,\"ticks\":\"\",\"zerolinecolor\":\"white\",\"gridwidth\":2}},\"shapedefaults\":{\"line\":{\"color\":\"#2a3f5f\"}},\"annotationdefaults\":{\"arrowcolor\":\"#2a3f5f\",\"arrowhead\":0,\"arrowwidth\":1},\"geo\":{\"bgcolor\":\"white\",\"landcolor\":\"#E5ECF6\",\"subunitcolor\":\"white\",\"showland\":true,\"showlakes\":true,\"lakecolor\":\"white\"},\"title\":{\"x\":0.05},\"mapbox\":{\"style\":\"light\"}}},\"xaxis\":{\"anchor\":\"y\",\"domain\":[0.0,1.0],\"title\":{\"text\":\"Age_Segmentation\"},\"categoryorder\":\"total descending\"},\"yaxis\":{\"anchor\":\"x\",\"domain\":[0.0,1.0],\"title\":{\"text\":\"Count\"}},\"legend\":{\"title\":{\"text\":\"Sub Category\"},\"tracegroupgap\":0},\"title\":{\"text\":\"Top 3 Sub Categories Purchased by Age_Segmentation\"},\"barmode\":\"group\"},                        {\"responsive\": true}                    ).then(function(){\n",
       "                            \n",
       "var gd = document.getElementById('94e01682-30e0-4a77-bee5-b25301410b7d');\n",
       "var x = new MutationObserver(function (mutations, observer) {{\n",
       "        var display = window.getComputedStyle(gd).display;\n",
       "        if (!display || display === 'none') {{\n",
       "            console.log([gd, 'removed!']);\n",
       "            Plotly.purge(gd);\n",
       "            observer.disconnect();\n",
       "        }}\n",
       "}});\n",
       "\n",
       "// Listen for the removal of the full notebook cells\n",
       "var notebookContainer = gd.closest('#notebook-container');\n",
       "if (notebookContainer) {{\n",
       "    x.observe(notebookContainer, {childList: true});\n",
       "}}\n",
       "\n",
       "// Listen for the clearing of the current output cell\n",
       "var outputEl = gd.closest('.output');\n",
       "if (outputEl) {{\n",
       "    x.observe(outputEl, {childList: true});\n",
       "}}\n",
       "\n",
       "                        })                };                });            </script>        </div>"
      ]
     },
     "metadata": {},
     "output_type": "display_data"
    }
   ],
   "source": [
    "import plotly.express as px\n",
    "\n",
    "# Filter data untuk mendapatkan 4 negara\n",
    "top_3_age = sub_category_counts['Age_Segmentation'].unique()[:4]\n",
    "filtered_data = sub_category_counts[sub_category_counts['Age_Segmentation'].isin(top_3_age)]\n",
    "\n",
    "# Membuat grafik batang interaktif\n",
    "fig = px.bar(\n",
    "    filtered_data,\n",
    "    x='Age_Segmentation',\n",
    "    y='Count',\n",
    "    color='Sub Category',\n",
    "    barmode='group',\n",
    "    title='Top 3 Sub Categories Purchased by Age_Segmentation'\n",
    ")\n",
    "\n",
    "# Menambahkan interaktivitas\n",
    "fig.update_traces(texttemplate='%{y}', textposition='outside')\n",
    "fig.update_layout(xaxis={'categoryorder':'total descending'})\n",
    "\n",
    "# Menampilkan grafik\n",
    "fig.show()\n"
   ]
  },
  {
   "cell_type": "markdown",
   "id": "b0e30f6e",
   "metadata": {},
   "source": [
    "Untuk meningkatkan daya beli customer khususnya kategori remaja bisa dilakukan dengan menawarkan diskon menarik untuk barnag-barang seperti yang ditunjukan tabel top 3 barang yang paling sering dibeli diatas."
   ]
  },
  {
   "cell_type": "markdown",
   "id": "4033dcda",
   "metadata": {},
   "source": [
    "Kesimpulan :\n",
    "1. Produk dari kategori bikes merupakan produk yang sangat menguntungkan. Baik dari segi profit maupun quanitty, produk ini selalu menguasasi top 5.\n",
    "2. 3 Produk yang harus terus dikembangkan baik dari segi kualitas maupun marketing adalah tires and tubes, bottles and cages, dan helmets. Produk ini merupakan produk yang paling sering dibeli di tiap negara.\n",
    "3. Kategori umur remaja harus diberikan perlakuan khusus karena jumlahnya yang masih kecil dan customer pada karegori inilah yang nantinya akan masuk kedalam kategori umur Dewasa yang mana merupakan kategori umur customer dengan daya beli paling besar. Jika tidak, ditakutkan daya beli pada kategori dewasa akan menurun seiiring berjalannya waktu karena daya beli penerusnya sangat kecil."
   ]
  },
  {
   "cell_type": "markdown",
   "id": "56235521",
   "metadata": {},
   "source": [
    "## Link visualisasi looker studio : \n",
    "https://lookerstudio.google.com/reporting/90907008-2473-4806-888a-6ebbf1317c92"
   ]
  },
  {
   "cell_type": "code",
   "execution_count": null,
   "id": "d406a70f",
   "metadata": {},
   "outputs": [],
   "source": []
  }
 ],
 "metadata": {
  "kernelspec": {
   "display_name": "Python 3",
   "language": "python",
   "name": "python3"
  },
  "language_info": {
   "codemirror_mode": {
    "name": "ipython",
    "version": 3
   },
   "file_extension": ".py",
   "mimetype": "text/x-python",
   "name": "python",
   "nbconvert_exporter": "python",
   "pygments_lexer": "ipython3",
   "version": "3.8.8"
  }
 },
 "nbformat": 4,
 "nbformat_minor": 5
}
